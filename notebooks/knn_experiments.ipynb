{
 "cells": [
  {
   "cell_type": "code",
   "execution_count": 102,
   "id": "41f0df2f-4e81-4c29-9657-b9c091cc8a91",
   "metadata": {},
   "outputs": [],
   "source": [
    "import pickle\n",
    "import warnings\n",
    "\n",
    "from collections import Counter\n",
    "from copy import deepcopy\n",
    "from datetime import datetime\n",
    "from typing import Dict\n",
    "\n",
    "import numpy as np\n",
    "import pandas as pd\n",
    "import scipy as sp\n",
    "\n",
    "from implicit.nearest_neighbours import CosineRecommender, TFIDFRecommender, BM25Recommender, ItemItemRecommender\n",
    "from IPython.display import display\n",
    "from rectools.metrics.classification import Accuracy, Precision, Recall\n",
    "from rectools.metrics.novelty import MeanInvUserFreq\n",
    "from rectools.metrics.serendipity import Serendipity\n",
    "from rectools.metrics.ranking import MAP, NDCG\n",
    "from rectools.metrics import calc_metrics\n",
    "from rectools import Columns\n",
    "from rectools.models.popular import PopularModel\n",
    "\n",
    "from rectools.model_selection import TimeRangeSplitter\n",
    "from rectools.dataset import Dataset, Interactions\n",
    "\n",
    "warnings.filterwarnings(\"ignore\")\n",
    "pd.set_option('display.max_columns', 40)\n",
    "pd.set_option('display.float_format', lambda x: f'{x:,.3f}')"
   ]
  },
  {
   "cell_type": "markdown",
   "id": "ce8a19ce-25b1-4510-a4f3-5f026f845d8c",
   "metadata": {},
   "source": [
    "## Возьмем класс `UserKnn` из семинара"
   ]
  },
  {
   "cell_type": "code",
   "execution_count": 51,
   "id": "eda66fc5-9031-4342-bd4e-fd1974297409",
   "metadata": {},
   "outputs": [],
   "source": [
    "class UserKnn():\n",
    "    \"\"\"Class for fit-perdict UserKNN model \n",
    "       based on ItemKNN model from implicit.nearest_neighbours\n",
    "    \"\"\"\n",
    "\n",
    "    def __init__(self, model: ItemItemRecommender, N_users: int = 50):\n",
    "        self.N_users = N_users\n",
    "        self.model = model\n",
    "        self.is_fitted = False\n",
    "\n",
    "    def get_mappings(self, train):\n",
    "        self.users_inv_mapping = dict(enumerate(train['user_id'].unique()))\n",
    "        self.users_mapping = {v: k for k, v in self.users_inv_mapping.items()}\n",
    "\n",
    "        self.items_inv_mapping = dict(enumerate(train['item_id'].unique()))\n",
    "        self.items_mapping = {v: k for k, v in self.items_inv_mapping.items()}\n",
    "\n",
    "    def get_matrix(self, df: pd.DataFrame, \n",
    "                   user_col: str = 'user_id', \n",
    "                   item_col: str = 'item_id', \n",
    "                   weight_col: str = None, \n",
    "                   users_mapping: Dict[int, int] = None, \n",
    "                   items_mapping: Dict[int, int] = None):\n",
    "\n",
    "        if weight_col:\n",
    "            weights = df[weight_col].astype(np.float32)\n",
    "        else:\n",
    "            weights = np.ones(len(df), dtype=np.float32)\n",
    "\n",
    "        self.interaction_matrix = sp.sparse.coo_matrix((\n",
    "            weights, \n",
    "            (\n",
    "                df[item_col].map(self.items_mapping.get),\n",
    "                df[user_col].map(self.users_mapping.get)\n",
    "            )\n",
    "            ))\n",
    "\n",
    "        self.watched = df\\\n",
    "            .groupby(user_col, as_index=False)\\\n",
    "            .agg({item_col: list})\\\n",
    "            .rename(columns={user_col: 'sim_user_id'})\n",
    "\n",
    "        return self.interaction_matrix\n",
    "\n",
    "    def idf(self, n: int, x: float):\n",
    "        return np.log((1 + n) / (1 + x) + 1)\n",
    "\n",
    "    def _count_item_idf(self, df: pd.DataFrame):\n",
    "        item_cnt = Counter(df['item_id'].values)\n",
    "        item_idf = pd.DataFrame.from_dict(item_cnt, orient='index', \n",
    "                                          columns=['doc_freq']).reset_index()\n",
    "        item_idf['idf'] = item_idf['doc_freq'].apply(lambda x: self.idf(self.n, x))\n",
    "        self.item_idf = item_idf \n",
    "\n",
    "    def fit(self, train: pd.DataFrame):\n",
    "        self.user_knn = self.model\n",
    "        self.get_mappings(train)\n",
    "        self.weights_matrix = self.get_matrix(train, \n",
    "                                              users_mapping=self.users_mapping, \n",
    "                                              items_mapping=self.items_mapping)\n",
    "\n",
    "        self.n = train.shape[0]\n",
    "        self._count_item_idf(train)\n",
    "\n",
    "        self.user_knn.fit(self.weights_matrix)\n",
    "        self.is_fitted = True\n",
    "\n",
    "    def _generate_recs_mapper(self, model: ItemItemRecommender, user_mapping: Dict[int, int], \n",
    "                              user_inv_mapping: Dict[int, int], N: int):\n",
    "        def _recs_mapper(user):\n",
    "            user_id = self.users_mapping[user]\n",
    "            users, sim = model.similar_items(user_id, N=N)\n",
    "            return [self.users_inv_mapping[user] for user in users], sim\n",
    "        return _recs_mapper\n",
    "\n",
    "    def predict(self, test: pd.DataFrame, N_recs: int = 10):\n",
    "\n",
    "        if not self.is_fitted:\n",
    "            raise ValueError(\"Please call fit before predict\")\n",
    "\n",
    "        mapper = self._generate_recs_mapper(\n",
    "            model=self.user_knn, \n",
    "            user_mapping=self.users_mapping,\n",
    "            user_inv_mapping=self.users_inv_mapping,\n",
    "            N=self.N_users\n",
    "        )\n",
    "\n",
    "        recs = pd.DataFrame({'user_id': test['user_id'].unique()})\n",
    "        recs['sim_user_id'], recs['sim'] = zip(*recs['user_id'].map(mapper))\n",
    "        recs = recs.set_index('user_id').apply(pd.Series.explode).reset_index()\n",
    "\n",
    "        recs = recs[~(recs['user_id'] == recs['sim_user_id'])]\\\n",
    "            .merge(self.watched, on=['sim_user_id'], how='left')\\\n",
    "            .explode('item_id')\\\n",
    "            .sort_values(['user_id', 'sim'], ascending=False)\\\n",
    "            .drop_duplicates(['user_id', 'item_id'], keep='first')\\\n",
    "            .merge(self.item_idf, left_on='item_id', right_on='index', how='left')\n",
    "\n",
    "        recs['score'] = recs['sim'] * recs['idf']\n",
    "        recs = recs.sort_values(['user_id', 'score'], ascending=False)\n",
    "        recs['rank'] = recs.groupby('user_id').cumcount() + 1 \n",
    "        return recs[recs['rank'] <= N_recs][['user_id', 'item_id', 'score', 'rank']]"
   ]
  },
  {
   "cell_type": "markdown",
   "id": "7eeaa6d1-581d-4cd2-bf9a-ed343d0ab13e",
   "metadata": {},
   "source": [
    "## Берем датасет"
   ]
  },
  {
   "cell_type": "code",
   "execution_count": 52,
   "id": "437cf495-9365-413c-8464-258e670f062f",
   "metadata": {},
   "outputs": [],
   "source": [
    "# Взаимодействия\n",
    "interactions_df = pd.read_csv('../data/interactions.csv', parse_dates=[\"last_watch_dt\"])\n",
    "\n",
    "interactions_df.rename(\n",
    "    columns={\n",
    "        'last_watch_dt': Columns.Datetime,\n",
    "        'total_dur': Columns.Weight\n",
    "    }, \n",
    "    inplace=True)\n",
    "\n",
    "# Пользователи\n",
    "users = pd.read_csv('../data/users.csv')\n",
    "\n",
    "# Айтемы\n",
    "items = pd.read_csv('../data/items.csv')"
   ]
  },
  {
   "cell_type": "code",
   "execution_count": 53,
   "id": "d5f8174c-705e-4874-813d-ec37bcec9653",
   "metadata": {},
   "outputs": [
    {
     "data": {
      "text/html": [
       "<div>\n",
       "<style scoped>\n",
       "    .dataframe tbody tr th:only-of-type {\n",
       "        vertical-align: middle;\n",
       "    }\n",
       "\n",
       "    .dataframe tbody tr th {\n",
       "        vertical-align: top;\n",
       "    }\n",
       "\n",
       "    .dataframe thead th {\n",
       "        text-align: right;\n",
       "    }\n",
       "</style>\n",
       "<table border=\"1\" class=\"dataframe\">\n",
       "  <thead>\n",
       "    <tr style=\"text-align: right;\">\n",
       "      <th></th>\n",
       "      <th>user_id</th>\n",
       "      <th>item_id</th>\n",
       "      <th>datetime</th>\n",
       "      <th>weight</th>\n",
       "      <th>watched_pct</th>\n",
       "    </tr>\n",
       "  </thead>\n",
       "  <tbody>\n",
       "    <tr>\n",
       "      <th>0</th>\n",
       "      <td>176549</td>\n",
       "      <td>9506</td>\n",
       "      <td>2021-05-11</td>\n",
       "      <td>4,250.000000</td>\n",
       "      <td>72.000000</td>\n",
       "    </tr>\n",
       "    <tr>\n",
       "      <th>1</th>\n",
       "      <td>699317</td>\n",
       "      <td>1659</td>\n",
       "      <td>2021-05-29</td>\n",
       "      <td>8,317.000000</td>\n",
       "      <td>100.000000</td>\n",
       "    </tr>\n",
       "    <tr>\n",
       "      <th>2</th>\n",
       "      <td>656683</td>\n",
       "      <td>7107</td>\n",
       "      <td>2021-05-09</td>\n",
       "      <td>10.000000</td>\n",
       "      <td>0.000000</td>\n",
       "    </tr>\n",
       "    <tr>\n",
       "      <th>3</th>\n",
       "      <td>864613</td>\n",
       "      <td>7638</td>\n",
       "      <td>2021-07-05</td>\n",
       "      <td>14,483.000000</td>\n",
       "      <td>100.000000</td>\n",
       "    </tr>\n",
       "    <tr>\n",
       "      <th>4</th>\n",
       "      <td>964868</td>\n",
       "      <td>9506</td>\n",
       "      <td>2021-04-30</td>\n",
       "      <td>6,725.000000</td>\n",
       "      <td>100.000000</td>\n",
       "    </tr>\n",
       "  </tbody>\n",
       "</table>\n",
       "</div>"
      ],
      "text/plain": [
       "   user_id  item_id   datetime        weight  watched_pct\n",
       "0   176549     9506 2021-05-11  4,250.000000    72.000000\n",
       "1   699317     1659 2021-05-29  8,317.000000   100.000000\n",
       "2   656683     7107 2021-05-09     10.000000     0.000000\n",
       "3   864613     7638 2021-07-05 14,483.000000   100.000000\n",
       "4   964868     9506 2021-04-30  6,725.000000   100.000000"
      ]
     },
     "execution_count": 53,
     "metadata": {},
     "output_type": "execute_result"
    }
   ],
   "source": [
    "interactions = Interactions(interactions_df)\n",
    "interactions.df.head()"
   ]
  },
  {
   "cell_type": "code",
   "execution_count": 54,
   "id": "c95e6aff-256b-4204-896b-0ee5ecd7ba80",
   "metadata": {},
   "outputs": [
    {
     "data": {
      "text/html": [
       "<div>\n",
       "<style scoped>\n",
       "    .dataframe tbody tr th:only-of-type {\n",
       "        vertical-align: middle;\n",
       "    }\n",
       "\n",
       "    .dataframe tbody tr th {\n",
       "        vertical-align: top;\n",
       "    }\n",
       "\n",
       "    .dataframe thead th {\n",
       "        text-align: right;\n",
       "    }\n",
       "</style>\n",
       "<table border=\"1\" class=\"dataframe\">\n",
       "  <thead>\n",
       "    <tr style=\"text-align: right;\">\n",
       "      <th></th>\n",
       "      <th>item_id</th>\n",
       "      <th>content_type</th>\n",
       "      <th>title</th>\n",
       "      <th>title_orig</th>\n",
       "      <th>release_year</th>\n",
       "      <th>genres</th>\n",
       "      <th>countries</th>\n",
       "      <th>for_kids</th>\n",
       "      <th>age_rating</th>\n",
       "      <th>studios</th>\n",
       "      <th>directors</th>\n",
       "      <th>actors</th>\n",
       "      <th>description</th>\n",
       "      <th>keywords</th>\n",
       "    </tr>\n",
       "  </thead>\n",
       "  <tbody>\n",
       "    <tr>\n",
       "      <th>0</th>\n",
       "      <td>10711</td>\n",
       "      <td>film</td>\n",
       "      <td>Поговори с ней</td>\n",
       "      <td>Hable con ella</td>\n",
       "      <td>2,002.000000</td>\n",
       "      <td>драмы, зарубежные, детективы, мелодрамы</td>\n",
       "      <td>Испания</td>\n",
       "      <td>NaN</td>\n",
       "      <td>16.000000</td>\n",
       "      <td>NaN</td>\n",
       "      <td>Педро Альмодовар</td>\n",
       "      <td>Адольфо Фернандес, Ана Фернандес, Дарио Гранди...</td>\n",
       "      <td>Мелодрама легендарного Педро Альмодовара «Пого...</td>\n",
       "      <td>Поговори, ней, 2002, Испания, друзья, любовь, ...</td>\n",
       "    </tr>\n",
       "    <tr>\n",
       "      <th>1</th>\n",
       "      <td>2508</td>\n",
       "      <td>film</td>\n",
       "      <td>Голые перцы</td>\n",
       "      <td>Search Party</td>\n",
       "      <td>2,014.000000</td>\n",
       "      <td>зарубежные, приключения, комедии</td>\n",
       "      <td>США</td>\n",
       "      <td>NaN</td>\n",
       "      <td>16.000000</td>\n",
       "      <td>NaN</td>\n",
       "      <td>Скот Армстронг</td>\n",
       "      <td>Адам Палли, Брайан Хаски, Дж.Б. Смув, Джейсон ...</td>\n",
       "      <td>Уморительная современная комедия на популярную...</td>\n",
       "      <td>Голые, перцы, 2014, США, друзья, свадьбы, прео...</td>\n",
       "    </tr>\n",
       "    <tr>\n",
       "      <th>2</th>\n",
       "      <td>10716</td>\n",
       "      <td>film</td>\n",
       "      <td>Тактическая сила</td>\n",
       "      <td>Tactical Force</td>\n",
       "      <td>2,011.000000</td>\n",
       "      <td>криминал, зарубежные, триллеры, боевики, комедии</td>\n",
       "      <td>Канада</td>\n",
       "      <td>NaN</td>\n",
       "      <td>16.000000</td>\n",
       "      <td>NaN</td>\n",
       "      <td>Адам П. Калтраро</td>\n",
       "      <td>Адриан Холмс, Даррен Шалави, Джерри Вассерман,...</td>\n",
       "      <td>Профессиональный рестлер Стив Остин («Все или ...</td>\n",
       "      <td>Тактическая, сила, 2011, Канада, бандиты, ганг...</td>\n",
       "    </tr>\n",
       "    <tr>\n",
       "      <th>3</th>\n",
       "      <td>7868</td>\n",
       "      <td>film</td>\n",
       "      <td>45 лет</td>\n",
       "      <td>45 Years</td>\n",
       "      <td>2,015.000000</td>\n",
       "      <td>драмы, зарубежные, мелодрамы</td>\n",
       "      <td>Великобритания</td>\n",
       "      <td>NaN</td>\n",
       "      <td>16.000000</td>\n",
       "      <td>NaN</td>\n",
       "      <td>Эндрю Хэй</td>\n",
       "      <td>Александра Риддлстон-Барретт, Джеральдин Джейм...</td>\n",
       "      <td>Шарлотта Рэмплинг, Том Кортни, Джеральдин Джей...</td>\n",
       "      <td>45, лет, 2015, Великобритания, брак, жизнь, лю...</td>\n",
       "    </tr>\n",
       "    <tr>\n",
       "      <th>4</th>\n",
       "      <td>16268</td>\n",
       "      <td>film</td>\n",
       "      <td>Все решает мгновение</td>\n",
       "      <td>NaN</td>\n",
       "      <td>1,978.000000</td>\n",
       "      <td>драмы, спорт, советские, мелодрамы</td>\n",
       "      <td>СССР</td>\n",
       "      <td>NaN</td>\n",
       "      <td>12.000000</td>\n",
       "      <td>Ленфильм</td>\n",
       "      <td>Виктор Садовский</td>\n",
       "      <td>Александр Абдулов, Александр Демьяненко, Алекс...</td>\n",
       "      <td>Расчетливая чаровница из советского кинохита «...</td>\n",
       "      <td>Все, решает, мгновение, 1978, СССР, сильные, ж...</td>\n",
       "    </tr>\n",
       "    <tr>\n",
       "      <th>15958</th>\n",
       "      <td>6443</td>\n",
       "      <td>series</td>\n",
       "      <td>Полярный круг</td>\n",
       "      <td>Arctic Circle</td>\n",
       "      <td>2,018.000000</td>\n",
       "      <td>драмы, триллеры, криминал</td>\n",
       "      <td>Финляндия, Германия</td>\n",
       "      <td>NaN</td>\n",
       "      <td>16.000000</td>\n",
       "      <td>NaN</td>\n",
       "      <td>Ханну Салонен</td>\n",
       "      <td>Иина Куустонен, Максимилиан Брюкнер, Пихла Вии...</td>\n",
       "      <td>Во время погони за браконьерами по лесу, сотру...</td>\n",
       "      <td>убийство, вирус, расследование преступления, н...</td>\n",
       "    </tr>\n",
       "    <tr>\n",
       "      <th>15959</th>\n",
       "      <td>2367</td>\n",
       "      <td>series</td>\n",
       "      <td>Надежда</td>\n",
       "      <td>NaN</td>\n",
       "      <td>2,020.000000</td>\n",
       "      <td>драмы, боевики</td>\n",
       "      <td>Россия</td>\n",
       "      <td>0.000000</td>\n",
       "      <td>18.000000</td>\n",
       "      <td>NaN</td>\n",
       "      <td>Елена Хазанова</td>\n",
       "      <td>Виктория Исакова, Александр Кузьмин, Алексей М...</td>\n",
       "      <td>Оригинальный киносериал от создателей «Бывших»...</td>\n",
       "      <td>Надежда, 2020, Россия</td>\n",
       "    </tr>\n",
       "    <tr>\n",
       "      <th>15960</th>\n",
       "      <td>10632</td>\n",
       "      <td>series</td>\n",
       "      <td>Сговор</td>\n",
       "      <td>Hassel</td>\n",
       "      <td>2,017.000000</td>\n",
       "      <td>драмы, триллеры, криминал</td>\n",
       "      <td>Россия</td>\n",
       "      <td>0.000000</td>\n",
       "      <td>18.000000</td>\n",
       "      <td>NaN</td>\n",
       "      <td>Эшреф Рейбрук, Амир Камдин, Эрик Эгер</td>\n",
       "      <td>Ола Рапас, Алиетт Офейм, Уильма Лиден, Шанти Р...</td>\n",
       "      <td>Криминальная драма по мотивам романов о шведск...</td>\n",
       "      <td>Сговор, 2017, Россия</td>\n",
       "    </tr>\n",
       "    <tr>\n",
       "      <th>15961</th>\n",
       "      <td>4538</td>\n",
       "      <td>series</td>\n",
       "      <td>Среди камней</td>\n",
       "      <td>Darklands</td>\n",
       "      <td>2,019.000000</td>\n",
       "      <td>драмы, спорт, криминал</td>\n",
       "      <td>Россия</td>\n",
       "      <td>0.000000</td>\n",
       "      <td>18.000000</td>\n",
       "      <td>NaN</td>\n",
       "      <td>Марк О’Коннор, Конор МакМахон</td>\n",
       "      <td>Дэйн Уайт О’Хара, Томас Кэйн-Бирн, Джудит Родд...</td>\n",
       "      <td>Семнадцатилетний Дэмиен мечтает вырваться за п...</td>\n",
       "      <td>Среди, камней, 2019, Россия</td>\n",
       "    </tr>\n",
       "    <tr>\n",
       "      <th>15962</th>\n",
       "      <td>3206</td>\n",
       "      <td>series</td>\n",
       "      <td>Гоша</td>\n",
       "      <td>NaN</td>\n",
       "      <td>2,019.000000</td>\n",
       "      <td>комедии</td>\n",
       "      <td>Россия</td>\n",
       "      <td>0.000000</td>\n",
       "      <td>16.000000</td>\n",
       "      <td>NaN</td>\n",
       "      <td>Михаил Миронов</td>\n",
       "      <td>Мкртыч Арзуманян, Виктория Рунцова</td>\n",
       "      <td>Добродушный Гоша не может выйти из дома, чтобы...</td>\n",
       "      <td>Гоша, 2019, Россия</td>\n",
       "    </tr>\n",
       "  </tbody>\n",
       "</table>\n",
       "</div>"
      ],
      "text/plain": [
       "       item_id content_type                 title      title_orig  \\\n",
       "0        10711         film        Поговори с ней  Hable con ella   \n",
       "1         2508         film           Голые перцы    Search Party   \n",
       "2        10716         film      Тактическая сила  Tactical Force   \n",
       "3         7868         film                45 лет        45 Years   \n",
       "4        16268         film  Все решает мгновение             NaN   \n",
       "15958     6443       series         Полярный круг   Arctic Circle   \n",
       "15959     2367       series               Надежда             NaN   \n",
       "15960    10632       series                Сговор          Hassel   \n",
       "15961     4538       series          Среди камней      Darklands    \n",
       "15962     3206       series                  Гоша             NaN   \n",
       "\n",
       "       release_year                                            genres  \\\n",
       "0      2,002.000000           драмы, зарубежные, детективы, мелодрамы   \n",
       "1      2,014.000000                  зарубежные, приключения, комедии   \n",
       "2      2,011.000000  криминал, зарубежные, триллеры, боевики, комедии   \n",
       "3      2,015.000000                      драмы, зарубежные, мелодрамы   \n",
       "4      1,978.000000                драмы, спорт, советские, мелодрамы   \n",
       "15958  2,018.000000                         драмы, триллеры, криминал   \n",
       "15959  2,020.000000                                    драмы, боевики   \n",
       "15960  2,017.000000                         драмы, триллеры, криминал   \n",
       "15961  2,019.000000                            драмы, спорт, криминал   \n",
       "15962  2,019.000000                                           комедии   \n",
       "\n",
       "                 countries  for_kids  age_rating   studios  \\\n",
       "0                  Испания       NaN   16.000000       NaN   \n",
       "1                      США       NaN   16.000000       NaN   \n",
       "2                   Канада       NaN   16.000000       NaN   \n",
       "3           Великобритания       NaN   16.000000       NaN   \n",
       "4                     СССР       NaN   12.000000  Ленфильм   \n",
       "15958  Финляндия, Германия       NaN   16.000000       NaN   \n",
       "15959               Россия  0.000000   18.000000       NaN   \n",
       "15960               Россия  0.000000   18.000000       NaN   \n",
       "15961               Россия  0.000000   18.000000       NaN   \n",
       "15962               Россия  0.000000   16.000000       NaN   \n",
       "\n",
       "                                   directors  \\\n",
       "0                           Педро Альмодовар   \n",
       "1                             Скот Армстронг   \n",
       "2                           Адам П. Калтраро   \n",
       "3                                  Эндрю Хэй   \n",
       "4                           Виктор Садовский   \n",
       "15958                          Ханну Салонен   \n",
       "15959                         Елена Хазанова   \n",
       "15960  Эшреф Рейбрук, Амир Камдин, Эрик Эгер   \n",
       "15961          Марк О’Коннор, Конор МакМахон   \n",
       "15962                         Михаил Миронов   \n",
       "\n",
       "                                                  actors  \\\n",
       "0      Адольфо Фернандес, Ана Фернандес, Дарио Гранди...   \n",
       "1      Адам Палли, Брайан Хаски, Дж.Б. Смув, Джейсон ...   \n",
       "2      Адриан Холмс, Даррен Шалави, Джерри Вассерман,...   \n",
       "3      Александра Риддлстон-Барретт, Джеральдин Джейм...   \n",
       "4      Александр Абдулов, Александр Демьяненко, Алекс...   \n",
       "15958  Иина Куустонен, Максимилиан Брюкнер, Пихла Вии...   \n",
       "15959  Виктория Исакова, Александр Кузьмин, Алексей М...   \n",
       "15960  Ола Рапас, Алиетт Офейм, Уильма Лиден, Шанти Р...   \n",
       "15961  Дэйн Уайт О’Хара, Томас Кэйн-Бирн, Джудит Родд...   \n",
       "15962                 Мкртыч Арзуманян, Виктория Рунцова   \n",
       "\n",
       "                                             description  \\\n",
       "0      Мелодрама легендарного Педро Альмодовара «Пого...   \n",
       "1      Уморительная современная комедия на популярную...   \n",
       "2      Профессиональный рестлер Стив Остин («Все или ...   \n",
       "3      Шарлотта Рэмплинг, Том Кортни, Джеральдин Джей...   \n",
       "4      Расчетливая чаровница из советского кинохита «...   \n",
       "15958  Во время погони за браконьерами по лесу, сотру...   \n",
       "15959  Оригинальный киносериал от создателей «Бывших»...   \n",
       "15960  Криминальная драма по мотивам романов о шведск...   \n",
       "15961  Семнадцатилетний Дэмиен мечтает вырваться за п...   \n",
       "15962  Добродушный Гоша не может выйти из дома, чтобы...   \n",
       "\n",
       "                                                keywords  \n",
       "0      Поговори, ней, 2002, Испания, друзья, любовь, ...  \n",
       "1      Голые, перцы, 2014, США, друзья, свадьбы, прео...  \n",
       "2      Тактическая, сила, 2011, Канада, бандиты, ганг...  \n",
       "3      45, лет, 2015, Великобритания, брак, жизнь, лю...  \n",
       "4      Все, решает, мгновение, 1978, СССР, сильные, ж...  \n",
       "15958  убийство, вирус, расследование преступления, н...  \n",
       "15959                              Надежда, 2020, Россия  \n",
       "15960                               Сговор, 2017, Россия  \n",
       "15961                        Среди, камней, 2019, Россия  \n",
       "15962                                 Гоша, 2019, Россия  "
      ]
     },
     "execution_count": 54,
     "metadata": {},
     "output_type": "execute_result"
    }
   ],
   "source": [
    "def headtail(df):\n",
    "    \"\"\"\n",
    "    Вспомогательная функция для вывода первых 5 и последних 5 записей датасета\n",
    "    \"\"\"\n",
    "    return pd.concat([df.head(), df.tail()])\n",
    "\n",
    "headtail(items)"
   ]
  },
  {
   "cell_type": "markdown",
   "id": "647debd8-0390-4e94-83ca-fc2208035f97",
   "metadata": {},
   "source": [
    "## Инициализируем сплиттер, словари с моделями и метриками"
   ]
  },
  {
   "cell_type": "code",
   "execution_count": 55,
   "id": "b6011105-6c13-4590-a002-d35bdc90afb1",
   "metadata": {},
   "outputs": [],
   "source": [
    "splitter = TimeRangeSplitter(test_size=\"7D\", \n",
    "                             n_splits=3, \n",
    "                             filter_cold_users=True,\n",
    "                             filter_cold_items=True,\n",
    "                             filter_already_seen=True)"
   ]
  },
  {
   "cell_type": "code",
   "execution_count": 56,
   "id": "13b156d4-db71-4242-a977-afe26313cf50",
   "metadata": {},
   "outputs": [
    {
     "data": {
      "text/plain": [
       "[(Timestamp('2021-08-02 00:00:00', freq='7D'),\n",
       "  Timestamp('2021-08-09 00:00:00', freq='7D')),\n",
       " (Timestamp('2021-08-09 00:00:00', freq='7D'),\n",
       "  Timestamp('2021-08-16 00:00:00', freq='7D')),\n",
       " (Timestamp('2021-08-16 00:00:00', freq='7D'),\n",
       "  Timestamp('2021-08-23 00:00:00', freq='7D'))]"
      ]
     },
     "execution_count": 56,
     "metadata": {},
     "output_type": "execute_result"
    }
   ],
   "source": [
    "splitter.get_test_fold_borders(interactions=interactions)"
   ]
  },
  {
   "cell_type": "markdown",
   "id": "110fab9d-739c-4924-aef5-be883cbbfea4",
   "metadata": {},
   "source": [
    "Я пытался еще взять ItemItemRecommender, но он у меня падал с ошибкой Buffer dispatch, которую я не нашел, как исправить"
   ]
  },
  {
   "cell_type": "code",
   "execution_count": 57,
   "id": "dec7171f-262a-44a7-9b6f-3847d94c1a03",
   "metadata": {},
   "outputs": [],
   "source": [
    "models_dict = {\n",
    "    \"knn_Cosine\": UserKnn(CosineRecommender(K=10), N_users=50),\n",
    "    \"knn_TFIDF\": UserKnn(TFIDFRecommender(K=10), N_users=50),\n",
    "    \"knn_BM25\": UserKnn(BM25Recommender(K=10), N_users=50)\n",
    "}\n",
    "\n",
    "metrics_dict = {\n",
    "    'MAP_@10': MAP(k=10),\n",
    "    \"NDCG_@10\": NDCG(k=10),\n",
    "    \"Accuracy_@10\": Accuracy(k=10),\n",
    "    \"Precision_@10\": Precision(k=10),\n",
    "    \"Recall_@10\": Recall(k=10),\n",
    "    \"Serendipity_@10\": Serendipity(k=10),\n",
    "    'MeanInvUserFreq_@10': MeanInvUserFreq(k=10)\n",
    "}"
   ]
  },
  {
   "cell_type": "markdown",
   "id": "582f026b-85e1-46d6-bec2-d9d65910d908",
   "metadata": {},
   "source": [
    "## Берем функцию кросс-валидации из прошлой домашки, меняем ее совсем немного под работу с классом `UserKnn`"
   ]
  },
  {
   "cell_type": "code",
   "execution_count": 58,
   "id": "da668b34-db1d-406f-a0a6-7da829d5c97c",
   "metadata": {},
   "outputs": [],
   "source": [
    "def cross_validation(models: Dict,\n",
    "                     metrics: Dict,\n",
    "                     splitter: TimeRangeSplitter,\n",
    "                     k: int,\n",
    "                     interactions: Interactions,\n",
    "                     log_model: bool=False) -> pd.DataFrame:\n",
    "    results = []\n",
    "    models_logs = []\n",
    "    \n",
    "    folds = splitter.split(interactions)\n",
    "\n",
    "    for train_indices, test_indices, test_borders in folds:\n",
    "        train_df = interactions.df.iloc[train_indices]  # pd.DataFrame (test) (не rectools.Dataset!!!)\n",
    "\n",
    "        test_df = interactions.df.iloc[test_indices][[\"user_id\", \"item_id\"]]  # pd.DataFrame (test)\n",
    "        \n",
    "        users = np.unique(test_df[\"user_id\"])  # users & items\n",
    "        items = interactions.df.iloc[train_indices][\"item_id\"].unique()\n",
    "\n",
    "        for model_name, model in models.items():\n",
    "            model_info = {}\n",
    "            cur_model_log = {}\n",
    "            \n",
    "            print(f'Model: {model_name}, N_split: {test_borders[\"i_split\"]}, Test borders: {test_borders[\"start\"].strftime(\"%Y-%m-%d\"), test_borders[\"end\"].strftime(\"%Y-%m-%d\")}')\n",
    "            model = deepcopy(model)\n",
    "            \n",
    "            model.fit(train_df)  # fit & predict\n",
    "            if log_model:  # логгирование времени модели\n",
    "                cur_model_log['model_name'] = model_name\n",
    "                cur_model_log['n_split'] = test_borders[\"i_split\"]\n",
    "                cur_model_log['time_fitted'] = datetime.now()\n",
    "                models_logs.append(cur_model_log)\n",
    "\n",
    "            recommendations = model.predict(train_df)\n",
    "\n",
    "            metric_values = calc_metrics(  # metrics\n",
    "                metrics=metrics,\n",
    "                reco=recommendations,\n",
    "                interactions=test_df,\n",
    "                prev_interactions=interactions.df.iloc[train_indices],\n",
    "                catalog=items\n",
    "            )\n",
    "\n",
    "            model_info[\"model_name\"] = model_name\n",
    "            model_info[\"n_split\"] = test_borders[\"i_split\"]\n",
    "            model_info |= metric_values\n",
    "\n",
    "            results.append(model_info)\n",
    "    \n",
    "    if not log_model:\n",
    "        return pd.DataFrame(results).groupby([\"model_name\"]).mean().reset_index().drop(columns=[\"n_split\"], axis=1)\n",
    "    return pd.DataFrame(results).groupby([\"model_name\"]).mean().reset_index().drop(columns=[\"n_split\"], axis=1), models_logs"
   ]
  },
  {
   "cell_type": "code",
   "execution_count": 59,
   "id": "10efe2f0-2e07-4498-9aea-9dd465bfb271",
   "metadata": {},
   "outputs": [
    {
     "name": "stdout",
     "output_type": "stream",
     "text": [
      "Model: knn_Cosine, N_split: 0, Test borders: ('2021-08-02', '2021-08-09')\n"
     ]
    },
    {
     "name": "stderr",
     "output_type": "stream",
     "text": [
      "100%|████████████████████████████████████████████████████████████████████████████████████████████████████████████████████████████████████████████████████████████████| 797423/797423 [12:04<00:00, 1100.63it/s]\n"
     ]
    },
    {
     "name": "stdout",
     "output_type": "stream",
     "text": [
      "Model: knn_TFIDF, N_split: 0, Test borders: ('2021-08-02', '2021-08-09')\n"
     ]
    },
    {
     "name": "stderr",
     "output_type": "stream",
     "text": [
      "100%|████████████████████████████████████████████████████████████████████████████████████████████████████████████████████████████████████████████████████████████████| 797423/797423 [12:00<00:00, 1106.72it/s]\n"
     ]
    },
    {
     "name": "stdout",
     "output_type": "stream",
     "text": [
      "Model: knn_BM25, N_split: 0, Test borders: ('2021-08-02', '2021-08-09')\n"
     ]
    },
    {
     "name": "stderr",
     "output_type": "stream",
     "text": [
      "100%|████████████████████████████████████████████████████████████████████████████████████████████████████████████████████████████████████████████████████████████████| 797423/797423 [11:58<00:00, 1110.59it/s]\n"
     ]
    },
    {
     "name": "stdout",
     "output_type": "stream",
     "text": [
      "Model: knn_Cosine, N_split: 1, Test borders: ('2021-08-09', '2021-08-16')\n"
     ]
    },
    {
     "name": "stderr",
     "output_type": "stream",
     "text": [
      "100%|████████████████████████████████████████████████████████████████████████████████████████████████████████████████████████████████████████████████████████████████| 850489/850489 [14:05<00:00, 1005.67it/s]\n"
     ]
    },
    {
     "name": "stdout",
     "output_type": "stream",
     "text": [
      "Model: knn_TFIDF, N_split: 1, Test borders: ('2021-08-09', '2021-08-16')\n"
     ]
    },
    {
     "name": "stderr",
     "output_type": "stream",
     "text": [
      "100%|████████████████████████████████████████████████████████████████████████████████████████████████████████████████████████████████████████████████████████████████| 850489/850489 [14:07<00:00, 1004.04it/s]\n"
     ]
    },
    {
     "name": "stdout",
     "output_type": "stream",
     "text": [
      "Model: knn_BM25, N_split: 1, Test borders: ('2021-08-09', '2021-08-16')\n"
     ]
    },
    {
     "name": "stderr",
     "output_type": "stream",
     "text": [
      "100%|████████████████████████████████████████████████████████████████████████████████████████████████████████████████████████████████████████████████████████████████| 850489/850489 [14:00<00:00, 1012.31it/s]\n"
     ]
    },
    {
     "name": "stdout",
     "output_type": "stream",
     "text": [
      "Model: knn_Cosine, N_split: 2, Test borders: ('2021-08-16', '2021-08-23')\n"
     ]
    },
    {
     "name": "stderr",
     "output_type": "stream",
     "text": [
      "100%|█████████████████████████████████████████████████████████████████████████████████████████████████████████████████████████████████████████████████████████████████| 906071/906071 [16:12<00:00, 931.24it/s]\n"
     ]
    },
    {
     "name": "stdout",
     "output_type": "stream",
     "text": [
      "Model: knn_TFIDF, N_split: 2, Test borders: ('2021-08-16', '2021-08-23')\n"
     ]
    },
    {
     "name": "stderr",
     "output_type": "stream",
     "text": [
      "100%|█████████████████████████████████████████████████████████████████████████████████████████████████████████████████████████████████████████████████████████████████| 906071/906071 [16:10<00:00, 933.52it/s]\n"
     ]
    },
    {
     "name": "stdout",
     "output_type": "stream",
     "text": [
      "Model: knn_BM25, N_split: 2, Test borders: ('2021-08-16', '2021-08-23')\n"
     ]
    },
    {
     "name": "stderr",
     "output_type": "stream",
     "text": [
      "100%|█████████████████████████████████████████████████████████████████████████████████████████████████████████████████████████████████████████████████████████████████| 906071/906071 [16:10<00:00, 934.07it/s]\n"
     ]
    }
   ],
   "source": [
    "df, models_logs = cross_validation(models=models_dict,\n",
    "                      metrics=metrics_dict,\n",
    "                      k=10,\n",
    "                      interactions=interactions,\n",
    "                      splitter=splitter,\n",
    "                      log_model=True)"
   ]
  },
  {
   "cell_type": "markdown",
   "id": "10e3e781-b8d4-4ea8-a9b3-b4814eeb86c0",
   "metadata": {},
   "source": [
    "## Исследуем метрики!"
   ]
  },
  {
   "cell_type": "markdown",
   "id": "e9e3334d-c81b-43c3-97d7-7ae0f8ddafcf",
   "metadata": {},
   "source": [
    "- Нас интересует метрики MAP_@10, так как именно по ней формируется лидерборд\n",
    "- Можем заметить, что лучше всех справился knn+TFIDFRecommender\n",
    "- В принципе и почти по всем остальным метрикам `TFIDF` лучше всех, __так что возьмем эту модель для решения задания__"
   ]
  },
  {
   "cell_type": "code",
   "execution_count": 60,
   "id": "5ef4898b-1d4e-40cf-bfb1-851981c41f95",
   "metadata": {},
   "outputs": [
    {
     "data": {
      "text/html": [
       "<div>\n",
       "<style scoped>\n",
       "    .dataframe tbody tr th:only-of-type {\n",
       "        vertical-align: middle;\n",
       "    }\n",
       "\n",
       "    .dataframe tbody tr th {\n",
       "        vertical-align: top;\n",
       "    }\n",
       "\n",
       "    .dataframe thead th {\n",
       "        text-align: right;\n",
       "    }\n",
       "</style>\n",
       "<table border=\"1\" class=\"dataframe\">\n",
       "  <thead>\n",
       "    <tr style=\"text-align: right;\">\n",
       "      <th></th>\n",
       "      <th>model_name</th>\n",
       "      <th>Accuracy_@10</th>\n",
       "      <th>Precision_@10</th>\n",
       "      <th>Recall_@10</th>\n",
       "      <th>NDCG_@10</th>\n",
       "      <th>MAP_@10</th>\n",
       "      <th>MeanInvUserFreq_@10</th>\n",
       "      <th>Serendipity_@10</th>\n",
       "    </tr>\n",
       "  </thead>\n",
       "  <tbody>\n",
       "    <tr>\n",
       "      <th>0</th>\n",
       "      <td>knn_BM25</td>\n",
       "      <td>0.999180</td>\n",
       "      <td>0.003538</td>\n",
       "      <td>0.016029</td>\n",
       "      <td>0.002917</td>\n",
       "      <td>0.003164</td>\n",
       "      <td>7.477723</td>\n",
       "      <td>0.000011</td>\n",
       "    </tr>\n",
       "    <tr>\n",
       "      <th>1</th>\n",
       "      <td>knn_Cosine</td>\n",
       "      <td>0.999181</td>\n",
       "      <td>0.004142</td>\n",
       "      <td>0.020041</td>\n",
       "      <td>0.003442</td>\n",
       "      <td>0.003958</td>\n",
       "      <td>6.384824</td>\n",
       "      <td>0.000006</td>\n",
       "    </tr>\n",
       "    <tr>\n",
       "      <th>2</th>\n",
       "      <td>knn_TFIDF</td>\n",
       "      <td>0.999183</td>\n",
       "      <td>0.005890</td>\n",
       "      <td>0.029503</td>\n",
       "      <td>0.004799</td>\n",
       "      <td>0.005659</td>\n",
       "      <td>6.494855</td>\n",
       "      <td>0.000007</td>\n",
       "    </tr>\n",
       "  </tbody>\n",
       "</table>\n",
       "</div>"
      ],
      "text/plain": [
       "   model_name  Accuracy_@10  Precision_@10  Recall_@10  NDCG_@10  MAP_@10  \\\n",
       "0    knn_BM25      0.999180       0.003538    0.016029  0.002917 0.003164   \n",
       "1  knn_Cosine      0.999181       0.004142    0.020041  0.003442 0.003958   \n",
       "2   knn_TFIDF      0.999183       0.005890    0.029503  0.004799 0.005659   \n",
       "\n",
       "   MeanInvUserFreq_@10  Serendipity_@10  \n",
       "0             7.477723         0.000011  \n",
       "1             6.384824         0.000006  \n",
       "2             6.494855         0.000007  "
      ]
     },
     "execution_count": 60,
     "metadata": {},
     "output_type": "execute_result"
    }
   ],
   "source": [
    "df"
   ]
  },
  {
   "cell_type": "code",
   "execution_count": 61,
   "id": "799c318d-e059-4a76-80f4-e8eedbec8ef0",
   "metadata": {},
   "outputs": [
    {
     "data": {
      "text/plain": [
       "[{'model_name': 'knn_Cosine',\n",
       "  'n_split': 0,\n",
       "  'time_fitted': datetime.datetime(2023, 11, 28, 1, 9, 49, 288780)},\n",
       " {'model_name': 'knn_TFIDF',\n",
       "  'n_split': 0,\n",
       "  'time_fitted': datetime.datetime(2023, 11, 28, 1, 23, 22, 646887)},\n",
       " {'model_name': 'knn_BM25',\n",
       "  'n_split': 0,\n",
       "  'time_fitted': datetime.datetime(2023, 11, 28, 1, 36, 56, 719738)},\n",
       " {'model_name': 'knn_Cosine',\n",
       "  'n_split': 1,\n",
       "  'time_fitted': datetime.datetime(2023, 11, 28, 1, 52, 46, 2609)},\n",
       " {'model_name': 'knn_TFIDF',\n",
       "  'n_split': 1,\n",
       "  'time_fitted': datetime.datetime(2023, 11, 28, 2, 8, 30, 717594)},\n",
       " {'model_name': 'knn_BM25',\n",
       "  'n_split': 1,\n",
       "  'time_fitted': datetime.datetime(2023, 11, 28, 2, 24, 16, 774619)},\n",
       " {'model_name': 'knn_Cosine',\n",
       "  'n_split': 2,\n",
       "  'time_fitted': datetime.datetime(2023, 11, 28, 2, 42, 19, 450289)},\n",
       " {'model_name': 'knn_TFIDF',\n",
       "  'n_split': 2,\n",
       "  'time_fitted': datetime.datetime(2023, 11, 28, 3, 0, 15, 596325)},\n",
       " {'model_name': 'knn_BM25',\n",
       "  'n_split': 2,\n",
       "  'time_fitted': datetime.datetime(2023, 11, 28, 3, 18, 20, 966066)}]"
      ]
     },
     "execution_count": 61,
     "metadata": {},
     "output_type": "execute_result"
    }
   ],
   "source": [
    "models_logs"
   ]
  },
  {
   "cell_type": "markdown",
   "id": "85cb8a67-5987-4232-98c5-e3b21d0094e1",
   "metadata": {},
   "source": [
    "## Обучим лучшую модель"
   ]
  },
  {
   "cell_type": "code",
   "execution_count": 73,
   "id": "5a05b7d9-171c-4401-9001-bb9b1bcf386c",
   "metadata": {},
   "outputs": [],
   "source": [
    "knn_tfidf = UserKnn(model=TFIDFRecommender(K=10), N_users=50)"
   ]
  },
  {
   "cell_type": "code",
   "execution_count": 75,
   "id": "cd76e28a-7f7c-4a3c-b034-2a3fa806ddfc",
   "metadata": {},
   "outputs": [
    {
     "name": "stderr",
     "output_type": "stream",
     "text": [
      "100%|█████████████████████████████████████████████████████████████████████████████████████████████████████████████████████████████████████████████████████████████████| 962179/962179 [18:44<00:00, 855.58it/s]\n"
     ]
    }
   ],
   "source": [
    "knn_tfidf.fit(interactions_df)"
   ]
  },
  {
   "cell_type": "markdown",
   "id": "9febdf11-5384-4be4-8f37-b179a21d5b5e",
   "metadata": {},
   "source": [
    "Посмотрим, как работает модель"
   ]
  },
  {
   "cell_type": "code",
   "execution_count": 78,
   "id": "f9b94b0f-f565-4b9d-b3b0-ab2b98f1f2a8",
   "metadata": {},
   "outputs": [],
   "source": [
    "max_date = interactions_df['datetime'].max()\n",
    "\n",
    "test = interactions_df[(interactions_df['datetime'] >= max_date - pd.Timedelta(days=7))]"
   ]
  },
  {
   "cell_type": "code",
   "execution_count": 79,
   "id": "d3be84e5-10bc-4bc7-b748-853abb1771ca",
   "metadata": {},
   "outputs": [
    {
     "data": {
      "text/html": [
       "<div>\n",
       "<style scoped>\n",
       "    .dataframe tbody tr th:only-of-type {\n",
       "        vertical-align: middle;\n",
       "    }\n",
       "\n",
       "    .dataframe tbody tr th {\n",
       "        vertical-align: top;\n",
       "    }\n",
       "\n",
       "    .dataframe thead th {\n",
       "        text-align: right;\n",
       "    }\n",
       "</style>\n",
       "<table border=\"1\" class=\"dataframe\">\n",
       "  <thead>\n",
       "    <tr style=\"text-align: right;\">\n",
       "      <th></th>\n",
       "      <th>user_id</th>\n",
       "      <th>item_id</th>\n",
       "      <th>datetime</th>\n",
       "      <th>weight</th>\n",
       "      <th>watched_pct</th>\n",
       "    </tr>\n",
       "  </thead>\n",
       "  <tbody>\n",
       "    <tr>\n",
       "      <th>9</th>\n",
       "      <td>203219</td>\n",
       "      <td>13582</td>\n",
       "      <td>2021-08-22</td>\n",
       "      <td>6,975.000000</td>\n",
       "      <td>100.000000</td>\n",
       "    </tr>\n",
       "    <tr>\n",
       "      <th>22</th>\n",
       "      <td>505244</td>\n",
       "      <td>15297</td>\n",
       "      <td>2021-08-15</td>\n",
       "      <td>15,991.000000</td>\n",
       "      <td>63.000000</td>\n",
       "    </tr>\n",
       "    <tr>\n",
       "      <th>54</th>\n",
       "      <td>200197</td>\n",
       "      <td>9335</td>\n",
       "      <td>2021-08-16</td>\n",
       "      <td>83.000000</td>\n",
       "      <td>2.000000</td>\n",
       "    </tr>\n",
       "    <tr>\n",
       "      <th>64</th>\n",
       "      <td>73446</td>\n",
       "      <td>14488</td>\n",
       "      <td>2021-08-19</td>\n",
       "      <td>6,011.000000</td>\n",
       "      <td>100.000000</td>\n",
       "    </tr>\n",
       "    <tr>\n",
       "      <th>65</th>\n",
       "      <td>125519</td>\n",
       "      <td>4583</td>\n",
       "      <td>2021-08-22</td>\n",
       "      <td>3.000000</td>\n",
       "      <td>0.000000</td>\n",
       "    </tr>\n",
       "    <tr>\n",
       "      <th>...</th>\n",
       "      <td>...</td>\n",
       "      <td>...</td>\n",
       "      <td>...</td>\n",
       "      <td>...</td>\n",
       "      <td>...</td>\n",
       "    </tr>\n",
       "    <tr>\n",
       "      <th>5476188</th>\n",
       "      <td>590892</td>\n",
       "      <td>8618</td>\n",
       "      <td>2021-08-21</td>\n",
       "      <td>1,335.000000</td>\n",
       "      <td>23.000000</td>\n",
       "    </tr>\n",
       "    <tr>\n",
       "      <th>5476191</th>\n",
       "      <td>857162</td>\n",
       "      <td>12360</td>\n",
       "      <td>2021-08-16</td>\n",
       "      <td>11.000000</td>\n",
       "      <td>0.000000</td>\n",
       "    </tr>\n",
       "    <tr>\n",
       "      <th>5476201</th>\n",
       "      <td>273558</td>\n",
       "      <td>10605</td>\n",
       "      <td>2021-08-21</td>\n",
       "      <td>34,030.000000</td>\n",
       "      <td>100.000000</td>\n",
       "    </tr>\n",
       "    <tr>\n",
       "      <th>5476248</th>\n",
       "      <td>697262</td>\n",
       "      <td>15297</td>\n",
       "      <td>2021-08-20</td>\n",
       "      <td>18,307.000000</td>\n",
       "      <td>63.000000</td>\n",
       "    </tr>\n",
       "    <tr>\n",
       "      <th>5476250</th>\n",
       "      <td>319709</td>\n",
       "      <td>4436</td>\n",
       "      <td>2021-08-15</td>\n",
       "      <td>3,921.000000</td>\n",
       "      <td>45.000000</td>\n",
       "    </tr>\n",
       "  </tbody>\n",
       "</table>\n",
       "<p>490982 rows × 5 columns</p>\n",
       "</div>"
      ],
      "text/plain": [
       "         user_id  item_id   datetime        weight  watched_pct\n",
       "9         203219    13582 2021-08-22  6,975.000000   100.000000\n",
       "22        505244    15297 2021-08-15 15,991.000000    63.000000\n",
       "54        200197     9335 2021-08-16     83.000000     2.000000\n",
       "64         73446    14488 2021-08-19  6,011.000000   100.000000\n",
       "65        125519     4583 2021-08-22      3.000000     0.000000\n",
       "...          ...      ...        ...           ...          ...\n",
       "5476188   590892     8618 2021-08-21  1,335.000000    23.000000\n",
       "5476191   857162    12360 2021-08-16     11.000000     0.000000\n",
       "5476201   273558    10605 2021-08-21 34,030.000000   100.000000\n",
       "5476248   697262    15297 2021-08-20 18,307.000000    63.000000\n",
       "5476250   319709     4436 2021-08-15  3,921.000000    45.000000\n",
       "\n",
       "[490982 rows x 5 columns]"
      ]
     },
     "execution_count": 79,
     "metadata": {},
     "output_type": "execute_result"
    }
   ],
   "source": [
    "test"
   ]
  },
  {
   "cell_type": "code",
   "execution_count": 81,
   "id": "898e18af-b4ae-4dbd-8628-430ce27f07cd",
   "metadata": {},
   "outputs": [],
   "source": [
    "recommendations = knn_tfidf.predict(test)"
   ]
  },
  {
   "cell_type": "code",
   "execution_count": 93,
   "id": "22d42a70-7e93-4375-b70b-fb1e090421ea",
   "metadata": {},
   "outputs": [],
   "source": [
    "knn_recs = recommendations.groupby(['user_id']).agg({'item_id': lambda x: x.tolist()}).reset_index().set_index('user_id').to_dict()['item_id']"
   ]
  },
  {
   "cell_type": "markdown",
   "id": "1a8cde2d-1cc8-4405-bd06-76ea6a6913c6",
   "metadata": {},
   "source": [
    "Не у всех пользователей есть 10 рекомендаций. Дополним им рекомендации до 10 самыми популярными айтемами"
   ]
  },
  {
   "cell_type": "markdown",
   "id": "7302130a-5a72-40ce-9f01-08e84845ef68",
   "metadata": {},
   "source": [
    "## Используем модель популярных айтемов"
   ]
  },
  {
   "cell_type": "code",
   "execution_count": 85,
   "id": "4cd4e2e5-8d1a-4199-b9b4-1787b0e8674a",
   "metadata": {},
   "outputs": [
    {
     "data": {
      "text/plain": [
       "<rectools.models.popular.PopularModel at 0x2c9650fd0>"
      ]
     },
     "execution_count": 85,
     "metadata": {},
     "output_type": "execute_result"
    }
   ],
   "source": [
    "pop_model = PopularModel()\n",
    "\n",
    "dataset = Dataset.construct(interactions_df=interactions_df)\n",
    "\n",
    "pop_model.fit(dataset=dataset)"
   ]
  },
  {
   "cell_type": "code",
   "execution_count": 88,
   "id": "a6ff0965-4a21-45c7-a69a-ae1250dd176b",
   "metadata": {},
   "outputs": [],
   "source": [
    "pop_recommendations = pop_model.recommend(\n",
    "                users=test['user_id'].unique(),\n",
    "                dataset=dataset,\n",
    "                k=10,\n",
    "                filter_viewed=True\n",
    "            )"
   ]
  },
  {
   "cell_type": "code",
   "execution_count": 94,
   "id": "0eaa3452-bc6d-4f88-ad1c-fff54282dd6d",
   "metadata": {},
   "outputs": [],
   "source": [
    "pop_recs = pop_recommendations.groupby(['user_id']).agg({'item_id': lambda x: x.tolist()}).reset_index().set_index('user_id').to_dict()['item_id']"
   ]
  },
  {
   "cell_type": "markdown",
   "id": "aa80e4bb-05d0-42a4-8b51-33e0bbdbe80f",
   "metadata": {},
   "source": [
    "## Напишем функцию для того, чтобы юзеру рекомендовало 10 айтемов"
   ]
  },
  {
   "cell_type": "markdown",
   "id": "fc26a9d5-b33c-4fc6-8ff3-696e9a0fc4e8",
   "metadata": {},
   "source": [
    "Заодно это ляжет в основу нашей функции для онлайн рекомендаций"
   ]
  },
  {
   "cell_type": "code",
   "execution_count": 168,
   "id": "a68fbc01-0884-4b2b-8445-f3db557083b7",
   "metadata": {},
   "outputs": [],
   "source": [
    "def get_online_recs_for_user(knn_model,\n",
    "                            pop_model,\n",
    "                             pop_model_dataset,\n",
    "                            user_id: int):\n",
    "    if user_id in knn_model.users_mapping:\n",
    "        knn_recommendations = knn_model.predict(pd.DataFrame([user_id], columns=['user_id']))\n",
    "        knn_recommendations = knn_recommendations['item_id'].tolist()\n",
    "    else:\n",
    "        knn_recommendations = []\n",
    "\n",
    "\n",
    "    if len(knn_recommendations) < 10:\n",
    "        pop_recommendations = pop_model.recommend(\n",
    "                users=[user_id],\n",
    "                dataset=pop_model_dataset,\n",
    "                k=10,\n",
    "                filter_viewed=True\n",
    "            )['item_id'].tolist()\n",
    "\n",
    "        return {user_id: pd.unique(np.concatenate([knn_recommendations, pop_recommendations]))[:10].tolist()}\n",
    "\n",
    "    return {user_id: knn_recommendations}\n"
   ]
  },
  {
   "cell_type": "markdown",
   "id": "d040b552-a68c-414f-b757-45a8ea5fdad7",
   "metadata": {},
   "source": [
    "Примеры рекомендаций голой knn_tfidf:"
   ]
  },
  {
   "cell_type": "code",
   "execution_count": 169,
   "id": "9ff52373-f519-41d3-b4cf-1696c4cae7ce",
   "metadata": {},
   "outputs": [
    {
     "data": {
      "text/plain": [
       "[3669, 10440]"
      ]
     },
     "execution_count": 169,
     "metadata": {},
     "output_type": "execute_result"
    }
   ],
   "source": [
    "knn_recs[1]"
   ]
  },
  {
   "cell_type": "code",
   "execution_count": 170,
   "id": "e2272db9-9ffc-4c96-98d8-dd7b290ace5a",
   "metadata": {},
   "outputs": [
    {
     "data": {
      "text/plain": [
       "[846]"
      ]
     },
     "execution_count": 170,
     "metadata": {},
     "output_type": "execute_result"
    }
   ],
   "source": [
    "knn_recs[12]"
   ]
  },
  {
   "cell_type": "markdown",
   "id": "9c80a681-053f-4ff8-a156-2e9fba2c1354",
   "metadata": {},
   "source": [
    "### Примеры онлайн рекомендаций вместе с PopularModel"
   ]
  },
  {
   "cell_type": "code",
   "execution_count": 171,
   "id": "b1af18a3-b008-474a-8c2c-99e43a25f594",
   "metadata": {},
   "outputs": [
    {
     "data": {
      "text/plain": [
       "{1: [3669, 10440, 15297, 9728, 13865, 4151, 3734, 2657, 4880, 142]}"
      ]
     },
     "execution_count": 171,
     "metadata": {},
     "output_type": "execute_result"
    }
   ],
   "source": [
    "get_online_recs_for_user(knn_model=knn_tfidf,\n",
    "                         pop_model=pop_model,\n",
    "                         pop_model_dataset=dataset,\n",
    "                         user_id=1)"
   ]
  },
  {
   "cell_type": "code",
   "execution_count": 172,
   "id": "ce3674eb-26da-401c-8595-2d99536b4f05",
   "metadata": {},
   "outputs": [
    {
     "data": {
      "text/plain": [
       "{12: [846, 10440, 15297, 9728, 13865, 4151, 3734, 2657, 4880, 142]}"
      ]
     },
     "execution_count": 172,
     "metadata": {},
     "output_type": "execute_result"
    }
   ],
   "source": [
    "get_online_recs_for_user(knn_model=knn_tfidf,\n",
    "                         pop_model=pop_model,\n",
    "                         pop_model_dataset=dataset,\n",
    "                         user_id=12)"
   ]
  },
  {
   "cell_type": "markdown",
   "id": "f55a1e83-374a-4a75-a278-dfe3b094c5be",
   "metadata": {},
   "source": [
    "## Теперь сохраним нужные переменные в пиклы, чтобы потом использовать в онлайн рекомендациях"
   ]
  },
  {
   "cell_type": "code",
   "execution_count": 174,
   "id": "f971c0f1-3736-49ac-94b2-bc482ead52b3",
   "metadata": {},
   "outputs": [],
   "source": [
    "with open(\"../service/recsys_models/popular_model_20231128.pkl\", \"wb\") as f:\n",
    "    pickle.dump(pop_model, f)\n",
    "\n",
    "with open(\"../service/recsys_models/knn_tfidf_model_20231127.pkl\", \"wb\") as f:\n",
    "    pickle.dump(knn_tfidf, f)\n",
    "\n",
    "with open(\"../service/recsys_models/dataset_for_pop_model_20231128.pkl\", \"wb\") as f:\n",
    "    pickle.dump(dataset, f)"
   ]
  },
  {
   "cell_type": "code",
   "execution_count": 182,
   "id": "0ddf6cd2-c139-4499-a36a-caf78f840f2d",
   "metadata": {},
   "outputs": [],
   "source": [
    "offline_recs = {}\n",
    "\n",
    "for user in test['user_id'].unique():\n",
    "    offline_recs[user] = get_online_recs_for_user(knn_model=knn_tfidf,\n",
    "                         pop_model=pop_model,\n",
    "                         pop_model_dataset=dataset,\n",
    "                         user_id=user)"
   ]
  },
  {
   "cell_type": "code",
   "execution_count": 188,
   "id": "e9043b89-ba7c-49c2-b244-60a40ad4fc3e",
   "metadata": {},
   "outputs": [],
   "source": [
    "restructured_offline_recs = {user_id: offline_recs[user_id][user_id] for user_id in offline_recs}"
   ]
  },
  {
   "cell_type": "code",
   "execution_count": 192,
   "id": "9f3a2e01-b737-408c-af76-a8a855e2ba66",
   "metadata": {},
   "outputs": [],
   "source": [
    "with open(\"../service/recsys_models/knn_tfidf_model_offline_recos_20231128.pkl\", \"wb\") as f:\n",
    "    pickle.dump(restructured_offline_recs, f)"
   ]
  },
  {
   "cell_type": "markdown",
   "id": "246386dd-f672-4a39-a775-81d248f271d6",
   "metadata": {},
   "source": [
    "## С онлайном разобрались (подробнее в пулл реквесте). Теперь займемся оффлайн рекомендациями"
   ]
  },
  {
   "cell_type": "markdown",
   "id": "d0120550-64fd-4604-9367-39d570a5c9b1",
   "metadata": {},
   "source": [
    "### Посчитаем рекомендации для всех пользователей из датасета"
   ]
  },
  {
   "cell_type": "code",
   "execution_count": 206,
   "id": "81f91ead-a178-4135-bc05-ed4b1d52bb1b",
   "metadata": {},
   "outputs": [],
   "source": [
    "knn_recs_for_all_users = knn_tfidf.predict(interactions_df)"
   ]
  },
  {
   "cell_type": "code",
   "execution_count": 217,
   "id": "b5c2ce2a-c6db-44cd-9c8a-81a3e97bd289",
   "metadata": {},
   "outputs": [],
   "source": [
    "knn_recs_for_all_users = knn_recs_for_all_users.groupby(['user_id']).agg({'item_id': lambda x: x.tolist()}).reset_index().set_index('user_id').to_dict()['item_id']"
   ]
  },
  {
   "cell_type": "code",
   "execution_count": 272,
   "id": "802c8ce9-3b57-43fc-8680-66fdb72e4218",
   "metadata": {},
   "outputs": [],
   "source": [
    "pop_recs_for_all_users = pop_model.recommend(\n",
    "                users=interactions_df['user_id'].unique(),\n",
    "                dataset=dataset,\n",
    "                k=10,\n",
    "                filter_viewed=True\n",
    "            )"
   ]
  },
  {
   "cell_type": "code",
   "execution_count": 278,
   "id": "ab2fe0e5-98af-4b69-b895-8d3cf98cf133",
   "metadata": {},
   "outputs": [],
   "source": [
    "pop_recs_for_all_users = pop_recs_for_all_users.groupby(['user_id']).agg({'item_id': lambda x: x.tolist()}).reset_index().set_index('user_id').to_dict()['item_id']"
   ]
  },
  {
   "cell_type": "markdown",
   "id": "73116dc2-0871-4c31-83f9-62d12277e42f",
   "metadata": {},
   "source": [
    "### Напишем функцию для того, чтобы объединить рекомендации UserKnn() и PopularModel() по тому же принципу\n",
    "(Если `UserKnn()` предлагает < 10 айтемов, то дополняем самыми популярными до 10)"
   ]
  },
  {
   "cell_type": "code",
   "execution_count": 239,
   "id": "878f13a8-622b-4e87-a167-769304cea837",
   "metadata": {},
   "outputs": [],
   "source": [
    "def calc_offline_recs(knn_recs, \n",
    "                      pop_recs):\n",
    "    final_offline_recs = {}\n",
    "    for user in interactions_df['user_id'].unique():\n",
    "        if user in knn_recs:\n",
    "            cur_user_knn_recs = knn_recs[user]\n",
    "        else:\n",
    "            \n",
    "            cur_user_knn_recs = []\n",
    "    \n",
    "        if len(cur_user_knn_recs) < 10:\n",
    "            final_offline_recs[user] = pd.unique(np.concatenate([cur_user_knn_recs, \n",
    "                                                                pop_recs[user]]))[:10].tolist()\n",
    "        else:\n",
    "            final_offline_recs[user] = cur_user_knn_recs\n",
    "    \n",
    "    return final_offline_recs"
   ]
  },
  {
   "cell_type": "code",
   "execution_count": 240,
   "id": "592d2a28-d8ec-4332-b129-135e739783e5",
   "metadata": {},
   "outputs": [],
   "source": [
    "final_offline_recs = calc_offline_recs(knn_recs_for_all_users,\n",
    "                                      pop_recs_for_all_users)"
   ]
  },
  {
   "cell_type": "markdown",
   "id": "888f2cd4-1b21-452a-9d28-0b664ca29ebf",
   "metadata": {},
   "source": [
    "### Сохраним это в пикл"
   ]
  },
  {
   "cell_type": "code",
   "execution_count": 247,
   "id": "729887be-8ecb-49d6-9d8b-46c3c2263196",
   "metadata": {},
   "outputs": [],
   "source": [
    "with open(\"../service/recsys_models/knn_tfidf_model_offline_recos_20231129.pkl\", \"wb\") as f:\n",
    "    pickle.dump(final_offline_recs, f)"
   ]
  },
  {
   "cell_type": "markdown",
   "id": "83428d02-3e89-40f7-af03-c801722d058c",
   "metadata": {},
   "source": [
    "### Однако бот запрашивает рекомендации и для тех, кого нет в датасете (соответственно и в файле с оффлайн рекомендациями)\n",
    "- Тогда мы вычислим вручную 10 самых популярных айтемов и будем предлагать их абсолютно новым пользователям\n",
    "- Мы вновь завернем эти айтемы в пикл, и будем обращаться к нему с сервака"
   ]
  },
  {
   "cell_type": "code",
   "execution_count": 298,
   "id": "c9ffddda-9d97-42d2-ba3b-409f39a7a860",
   "metadata": {},
   "outputs": [
    {
     "data": {
      "text/plain": [
       "[10440, 15297, 9728, 13865, 4151, 3734, 2657, 4880, 142, 6809]    398600\n",
       "Name: item_id, dtype: int64"
      ]
     },
     "execution_count": 298,
     "metadata": {},
     "output_type": "execute_result"
    }
   ],
   "source": [
    "pop_model.recommend(\n",
    "                users=interactions_df['user_id'].unique(),\n",
    "                dataset=dataset,\n",
    "                k=10,\n",
    "                filter_viewed=True\n",
    "            ).groupby(['user_id']).agg({'item_id': lambda x: x.tolist()}).reset_index().set_index('user_id')['item_id'].value_counts().iloc[:1]"
   ]
  },
  {
   "cell_type": "code",
   "execution_count": 299,
   "id": "eada8776-a7d9-4c34-a85a-0612ff088360",
   "metadata": {},
   "outputs": [
    {
     "data": {
      "text/plain": [
       "[10440, 15297, 9728, 13865, 4151, 3734, 2657, 4880, 142, 6809]"
      ]
     },
     "execution_count": 299,
     "metadata": {},
     "output_type": "execute_result"
    }
   ],
   "source": [
    "interactions_df['item_id'].value_counts().iloc[:10].index.tolist()"
   ]
  },
  {
   "cell_type": "markdown",
   "id": "6b16f2b0-e96a-4694-aaa9-0f619c401b64",
   "metadata": {},
   "source": [
    "### Мы попытались найти 10 самых популярных айтемов двумя способами\n",
    "- Посчитав какая комбинация из 10 айтемов рекомендуется пользователям чаще всего\n",
    "- Посчитав айтемы с которыми больше всего взаимодействовали в исходном датасете  \n",
    "\n",
    "  \n",
    "- В обоих случаях 10 айтемов оказались одинаковыми, ими и восползуемся при прогнозе"
   ]
  },
  {
   "cell_type": "code",
   "execution_count": 301,
   "id": "6427d75f-d6fa-481a-a210-ba386db0b950",
   "metadata": {},
   "outputs": [],
   "source": [
    "with open(\"../service/recsys_models/10_most_popular_items_20231129.pkl\", \"wb\") as f:\n",
    "    pickle.dump(interactions_df['item_id'].value_counts().iloc[:10].index.tolist(), f)"
   ]
  },
  {
   "cell_type": "markdown",
   "id": "56e3aa17-6d4f-4bce-be5a-289d4656d3b0",
   "metadata": {},
   "source": [
    "## Теперь у нас есть все необходимые пиклы для теста"
   ]
  },
  {
   "cell_type": "code",
   "execution_count": null,
   "id": "5692fb06-c491-4860-ac2e-02eed5f4bbbe",
   "metadata": {},
   "outputs": [],
   "source": []
  }
 ],
 "metadata": {
  "kernelspec": {
   "display_name": "Python 3 (ipykernel)",
   "language": "python",
   "name": "python3"
  },
  "language_info": {
   "codemirror_mode": {
    "name": "ipython",
    "version": 3
   },
   "file_extension": ".py",
   "mimetype": "text/x-python",
   "name": "python",
   "nbconvert_exporter": "python",
   "pygments_lexer": "ipython3",
   "version": "3.10.8"
  }
 },
 "nbformat": 4,
 "nbformat_minor": 5
}
