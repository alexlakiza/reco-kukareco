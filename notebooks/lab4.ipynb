{
 "cells": [
  {
   "cell_type": "code",
   "execution_count": 1,
   "metadata": {},
   "outputs": [],
   "source": [
    "import os\n",
    "\n",
    "os.environ[\"OPENBLAS_NUM_THREADS\"] = \"1\"  # For implicit ALS"
   ]
  },
  {
   "cell_type": "code",
   "execution_count": 2,
   "metadata": {},
   "outputs": [],
   "source": [
    "import warnings\n",
    "warnings.filterwarnings('ignore')"
   ]
  },
  {
   "cell_type": "code",
   "execution_count": 3,
   "metadata": {},
   "outputs": [],
   "source": [
    "import pandas as pd\n",
    "import numpy as np\n",
    "\n",
    "from implicit.als import AlternatingLeastSquares\n",
    "\n",
    "from rectools.metrics.classification import Accuracy, Precision\n",
    "from rectools.metrics import calc_metrics\n",
    "from rectools.metrics.novelty import MeanInvUserFreq\n",
    "from rectools.metrics.ranking import MAP, NDCG\n",
    "from rectools.metrics.serendipity import Serendipity\n",
    "from rectools import Columns\n",
    "from rectools.dataset import Dataset, Interactions\n",
    "from rectools.models import ImplicitALSWrapperModel, LightFMWrapperModel, PopularModel, RandomModel\n",
    "from rectools.model_selection import TimeRangeSplitter, cross_validate\n",
    "from rectools.tools import UserToItemAnnRecommender\n",
    "\n",
    "\n",
    "import matplotlib.pyplot as plt\n",
    "import seaborn as sns\n",
    "\n",
    "import pickle\n",
    "\n",
    "import matplotlib.pyplot as plt\n",
    "from pathlib import Path\n",
    "import typing as tp\n",
    "from tqdm import tqdm\n",
    "\n",
    "from lightfm import LightFM\n",
    "\n",
    "from implicit.bpr import BayesianPersonalizedRanking\n",
    "\n",
    "from implicit.lmf import LogisticMatrixFactorization"
   ]
  },
  {
   "cell_type": "markdown",
   "metadata": {},
   "source": [
    "## Подгрузка и подготовка данных для обучения"
   ]
  },
  {
   "cell_type": "code",
   "execution_count": 4,
   "metadata": {},
   "outputs": [],
   "source": [
    "users = pd.read_csv('../data/users.csv')\n",
    "items = pd.read_csv('../data/items.csv')\n",
    "interactions = pd.read_csv('../data/interactions.csv')"
   ]
  },
  {
   "cell_type": "code",
   "execution_count": 5,
   "metadata": {},
   "outputs": [
    {
     "data": {
      "text/plain": [
       "(5476251, 5)"
      ]
     },
     "execution_count": 5,
     "metadata": {},
     "output_type": "execute_result"
    }
   ],
   "source": [
    "interactions.shape"
   ]
  },
  {
   "cell_type": "markdown",
   "metadata": {},
   "source": [
    "Берем код с семинара"
   ]
  },
  {
   "cell_type": "code",
   "execution_count": 6,
   "metadata": {},
   "outputs": [],
   "source": [
    "Columns.Datetime = \"last_watch_dt\"\n",
    "interactions.drop(interactions[interactions[Columns.Datetime].str.len() != 10].index, inplace=True)\n",
    "interactions[Columns.Datetime] = pd.to_datetime(interactions[Columns.Datetime], format='%Y-%m-%d')\n",
    "max_date = interactions[Columns.Datetime].max()\n",
    "\n",
    "interactions[Columns.Weight] = np.where(interactions['watched_pct'] > 10, 3, 1)\n",
    "\n",
    "train = interactions[interactions[Columns.Datetime] < max_date - pd.Timedelta(days=7)].copy()\n",
    "test = interactions[interactions[Columns.Datetime] >= max_date - pd.Timedelta(days=7)].copy()\n",
    "\n",
    "train.drop(train.query(\"total_dur < 300\").index, inplace=True)"
   ]
  },
  {
   "cell_type": "markdown",
   "metadata": {},
   "source": [
    "Дропнем холодных пользователей на время теста моделей. В сервисе все равно будем рекомендовать им популярное"
   ]
  },
  {
   "cell_type": "code",
   "execution_count": 7,
   "metadata": {},
   "outputs": [],
   "source": [
    "cold_users = set(test[Columns.User]) - set(train[Columns.User])\n",
    "test.drop(test[test[Columns.User].isin(cold_users)].index, inplace=True)\n",
    "\n",
    "train_users = train[Columns.User].unique()\n",
    "test_users = test[Columns.User].unique()"
   ]
  },
  {
   "cell_type": "code",
   "execution_count": 8,
   "metadata": {},
   "outputs": [
    {
     "name": "stdout",
     "output_type": "stream",
     "text": [
      "train: (3832711, 6)\n",
      "test: (333026, 6)\n"
     ]
    }
   ],
   "source": [
    "print(f\"train: {train.shape}\")\n",
    "print(f\"test: {test.shape}\")"
   ]
  },
  {
   "cell_type": "markdown",
   "metadata": {},
   "source": [
    "### Функции для создания датасетов с фичами пользователей и айтемов "
   ]
  },
  {
   "cell_type": "code",
   "execution_count": 9,
   "metadata": {},
   "outputs": [],
   "source": [
    "def get_user_features(users: pd.DataFrame, \n",
    "                      interactions: pd.DataFrame, \n",
    "                      features) -> pd.DataFrame:\n",
    "    \"\"\"\n",
    "    Код из семинара обернул в функцию.\n",
    "    Функция для создания датафрейма с фичами пользователей, который подходит для использования рексис моделей\n",
    "    \"\"\"\n",
    "    users.fillna(\"Unknown\", inplace=True)\n",
    "    users = users.loc[users[Columns.User].isin(interactions[Columns.User])].copy()\n",
    "    \n",
    "    user_features_frames = []\n",
    "    \n",
    "    for feature in features:\n",
    "        feature_frame = users.reindex(columns=[Columns.User, feature])\n",
    "        feature_frame.columns = [\"id\", \"value\"]\n",
    "        feature_frame[\"feature\"] = feature\n",
    "        user_features_frames.append(feature_frame)\n",
    "\n",
    "    user_features = pd.concat(user_features_frames)\n",
    "    return user_features"
   ]
  },
  {
   "cell_type": "code",
   "execution_count": 10,
   "metadata": {},
   "outputs": [],
   "source": [
    "user_features = get_user_features(users, train, [\"sex\", \"age\", \"income\"])"
   ]
  },
  {
   "cell_type": "code",
   "execution_count": 11,
   "metadata": {},
   "outputs": [
    {
     "data": {
      "text/html": [
       "<div>\n",
       "<style scoped>\n",
       "    .dataframe tbody tr th:only-of-type {\n",
       "        vertical-align: middle;\n",
       "    }\n",
       "\n",
       "    .dataframe tbody tr th {\n",
       "        vertical-align: top;\n",
       "    }\n",
       "\n",
       "    .dataframe thead th {\n",
       "        text-align: right;\n",
       "    }\n",
       "</style>\n",
       "<table border=\"1\" class=\"dataframe\">\n",
       "  <thead>\n",
       "    <tr style=\"text-align: right;\">\n",
       "      <th></th>\n",
       "      <th>id</th>\n",
       "      <th>value</th>\n",
       "      <th>feature</th>\n",
       "    </tr>\n",
       "  </thead>\n",
       "  <tbody>\n",
       "    <tr>\n",
       "      <th>0</th>\n",
       "      <td>973171</td>\n",
       "      <td>М</td>\n",
       "      <td>sex</td>\n",
       "    </tr>\n",
       "    <tr>\n",
       "      <th>1</th>\n",
       "      <td>962099</td>\n",
       "      <td>М</td>\n",
       "      <td>sex</td>\n",
       "    </tr>\n",
       "    <tr>\n",
       "      <th>3</th>\n",
       "      <td>721985</td>\n",
       "      <td>Ж</td>\n",
       "      <td>sex</td>\n",
       "    </tr>\n",
       "    <tr>\n",
       "      <th>4</th>\n",
       "      <td>704055</td>\n",
       "      <td>Ж</td>\n",
       "      <td>sex</td>\n",
       "    </tr>\n",
       "    <tr>\n",
       "      <th>5</th>\n",
       "      <td>1037719</td>\n",
       "      <td>М</td>\n",
       "      <td>sex</td>\n",
       "    </tr>\n",
       "    <tr>\n",
       "      <th>...</th>\n",
       "      <td>...</td>\n",
       "      <td>...</td>\n",
       "      <td>...</td>\n",
       "    </tr>\n",
       "    <tr>\n",
       "      <th>840184</th>\n",
       "      <td>529394</td>\n",
       "      <td>income_40_60</td>\n",
       "      <td>income</td>\n",
       "    </tr>\n",
       "    <tr>\n",
       "      <th>840186</th>\n",
       "      <td>80113</td>\n",
       "      <td>income_40_60</td>\n",
       "      <td>income</td>\n",
       "    </tr>\n",
       "    <tr>\n",
       "      <th>840188</th>\n",
       "      <td>312839</td>\n",
       "      <td>income_60_90</td>\n",
       "      <td>income</td>\n",
       "    </tr>\n",
       "    <tr>\n",
       "      <th>840189</th>\n",
       "      <td>191349</td>\n",
       "      <td>income_40_60</td>\n",
       "      <td>income</td>\n",
       "    </tr>\n",
       "    <tr>\n",
       "      <th>840190</th>\n",
       "      <td>393868</td>\n",
       "      <td>income_20_40</td>\n",
       "      <td>income</td>\n",
       "    </tr>\n",
       "  </tbody>\n",
       "</table>\n",
       "<p>1760004 rows × 3 columns</p>\n",
       "</div>"
      ],
      "text/plain": [
       "             id         value feature\n",
       "0        973171             М     sex\n",
       "1        962099             М     sex\n",
       "3        721985             Ж     sex\n",
       "4        704055             Ж     sex\n",
       "5       1037719             М     sex\n",
       "...         ...           ...     ...\n",
       "840184   529394  income_40_60  income\n",
       "840186    80113  income_40_60  income\n",
       "840188   312839  income_60_90  income\n",
       "840189   191349  income_40_60  income\n",
       "840190   393868  income_20_40  income\n",
       "\n",
       "[1760004 rows x 3 columns]"
      ]
     },
     "execution_count": 11,
     "metadata": {},
     "output_type": "execute_result"
    }
   ],
   "source": [
    "user_features"
   ]
  },
  {
   "cell_type": "code",
   "execution_count": 12,
   "metadata": {},
   "outputs": [],
   "source": [
    "def get_item_features(items: pd.DataFrame, \n",
    "                      interactions: pd.DataFrame) -> pd.DataFrame:\n",
    "    \"\"\"\n",
    "    Тоже код с семинара.\n",
    "    Функция для создания датафрейма с фичами айтемов, который подходит для использования рексис моделей\n",
    "    \"\"\"\n",
    "    items = items.loc[items[Columns.Item].isin(interactions[Columns.Item])].copy()\n",
    "    \n",
    "    items[\"genre\"] = items[\"genres\"].str.lower().str.replace(\", \", \",\", regex=False).str.split(\",\")\n",
    "    genre_feature = items[[\"item_id\", \"genre\"]].explode(\"genre\")\n",
    "    genre_feature.columns = [\"id\", \"value\"]\n",
    "    genre_feature[\"feature\"] = \"genre\"\n",
    "    \n",
    "    content_feature = items.reindex(columns=[Columns.Item, \"content_type\"])\n",
    "    content_feature.columns = [\"id\", \"value\"]\n",
    "    content_feature[\"feature\"] = \"content_type\"\n",
    "    item_features = pd.concat((genre_feature, content_feature))\n",
    "    return item_features"
   ]
  },
  {
   "cell_type": "code",
   "execution_count": 13,
   "metadata": {},
   "outputs": [],
   "source": [
    "item_features = get_item_features(items, train)"
   ]
  },
  {
   "cell_type": "code",
   "execution_count": 14,
   "metadata": {},
   "outputs": [
    {
     "data": {
      "text/html": [
       "<div>\n",
       "<style scoped>\n",
       "    .dataframe tbody tr th:only-of-type {\n",
       "        vertical-align: middle;\n",
       "    }\n",
       "\n",
       "    .dataframe tbody tr th {\n",
       "        vertical-align: top;\n",
       "    }\n",
       "\n",
       "    .dataframe thead th {\n",
       "        text-align: right;\n",
       "    }\n",
       "</style>\n",
       "<table border=\"1\" class=\"dataframe\">\n",
       "  <thead>\n",
       "    <tr style=\"text-align: right;\">\n",
       "      <th></th>\n",
       "      <th>id</th>\n",
       "      <th>value</th>\n",
       "      <th>feature</th>\n",
       "    </tr>\n",
       "  </thead>\n",
       "  <tbody>\n",
       "    <tr>\n",
       "      <th>0</th>\n",
       "      <td>10711</td>\n",
       "      <td>драмы</td>\n",
       "      <td>genre</td>\n",
       "    </tr>\n",
       "    <tr>\n",
       "      <th>0</th>\n",
       "      <td>10711</td>\n",
       "      <td>зарубежные</td>\n",
       "      <td>genre</td>\n",
       "    </tr>\n",
       "    <tr>\n",
       "      <th>0</th>\n",
       "      <td>10711</td>\n",
       "      <td>детективы</td>\n",
       "      <td>genre</td>\n",
       "    </tr>\n",
       "    <tr>\n",
       "      <th>0</th>\n",
       "      <td>10711</td>\n",
       "      <td>мелодрамы</td>\n",
       "      <td>genre</td>\n",
       "    </tr>\n",
       "    <tr>\n",
       "      <th>1</th>\n",
       "      <td>2508</td>\n",
       "      <td>зарубежные</td>\n",
       "      <td>genre</td>\n",
       "    </tr>\n",
       "    <tr>\n",
       "      <th>...</th>\n",
       "      <td>...</td>\n",
       "      <td>...</td>\n",
       "      <td>...</td>\n",
       "    </tr>\n",
       "    <tr>\n",
       "      <th>15958</th>\n",
       "      <td>6443</td>\n",
       "      <td>series</td>\n",
       "      <td>content_type</td>\n",
       "    </tr>\n",
       "    <tr>\n",
       "      <th>15959</th>\n",
       "      <td>2367</td>\n",
       "      <td>series</td>\n",
       "      <td>content_type</td>\n",
       "    </tr>\n",
       "    <tr>\n",
       "      <th>15960</th>\n",
       "      <td>10632</td>\n",
       "      <td>series</td>\n",
       "      <td>content_type</td>\n",
       "    </tr>\n",
       "    <tr>\n",
       "      <th>15961</th>\n",
       "      <td>4538</td>\n",
       "      <td>series</td>\n",
       "      <td>content_type</td>\n",
       "    </tr>\n",
       "    <tr>\n",
       "      <th>15962</th>\n",
       "      <td>3206</td>\n",
       "      <td>series</td>\n",
       "      <td>content_type</td>\n",
       "    </tr>\n",
       "  </tbody>\n",
       "</table>\n",
       "<p>50224 rows × 3 columns</p>\n",
       "</div>"
      ],
      "text/plain": [
       "          id       value       feature\n",
       "0      10711       драмы         genre\n",
       "0      10711  зарубежные         genre\n",
       "0      10711   детективы         genre\n",
       "0      10711   мелодрамы         genre\n",
       "1       2508  зарубежные         genre\n",
       "...      ...         ...           ...\n",
       "15958   6443      series  content_type\n",
       "15959   2367      series  content_type\n",
       "15960  10632      series  content_type\n",
       "15961   4538      series  content_type\n",
       "15962   3206      series  content_type\n",
       "\n",
       "[50224 rows x 3 columns]"
      ]
     },
     "execution_count": 14,
     "metadata": {},
     "output_type": "execute_result"
    }
   ],
   "source": [
    "item_features"
   ]
  },
  {
   "cell_type": "code",
   "execution_count": 15,
   "metadata": {},
   "outputs": [],
   "source": [
    "dataset = Dataset.construct(\n",
    "    interactions_df=interactions,\n",
    "    user_features_df=user_features,\n",
    "    cat_user_features=[\"sex\", \"age\", \"income\"],\n",
    "    item_features_df=item_features,\n",
    "    cat_item_features=[\"genre\", \"content_type\"],\n",
    ")"
   ]
  },
  {
   "cell_type": "markdown",
   "metadata": {},
   "source": [
    "## Метрики"
   ]
  },
  {
   "cell_type": "code",
   "execution_count": 16,
   "metadata": {},
   "outputs": [],
   "source": [
    "# берем из lab2\n",
    "\n",
    "metrics_dict = {\n",
    "    f\"MAP_@{_}\": MAP(k=_) for _ in [1, 5, 10]\n",
    "} | {\n",
    "    f\"NDCG_@{_}\": NDCG(k=_) for _ in [1, 5, 10]\n",
    "} | {\n",
    "    f\"Accuracy_@{_}\": Accuracy(k=_) for _ in [1, 5, 10]\n",
    "} | {\n",
    "    f\"Precision_@{_}\": Precision(k=_) for _ in [1, 5, 10]\n",
    "} | {\n",
    "    f\"MeanInvUserFreq_@{_}\": MeanInvUserFreq(k=_) for _ in [1, 5, 10]\n",
    "} | {\n",
    "    f\"Serendipity_@{_}\": Serendipity(k=_) for _ in [1, 5, 10]\n",
    "}"
   ]
  },
  {
   "cell_type": "markdown",
   "metadata": {},
   "source": [
    "## Модели"
   ]
  },
  {
   "cell_type": "code",
   "execution_count": 23,
   "metadata": {},
   "outputs": [],
   "source": [
    "models_dict = {\n",
    "    \"popular\": PopularModel(),\n",
    "    \"ALS\": ImplicitALSWrapperModel(\n",
    "        model=AlternatingLeastSquares(\n",
    "            factors=32,\n",
    "            random_state=32,\n",
    "            num_threads=2,\n",
    "        ),\n",
    "        fit_features_together=True,\n",
    "    ),\n",
    "    \"LightFM\": LightFMWrapperModel(\n",
    "        LightFM(\n",
    "            no_components=8,\n",
    "            loss=\"warp\",\n",
    "            random_state=32,\n",
    "            learning_rate=0.05,\n",
    "            user_alpha=0.3,\n",
    "            item_alpha=0.2,\n",
    "        ),\n",
    "        epochs=1,\n",
    "        num_threads=2,\n",
    "    ),\n",
    "}"
   ]
  },
  {
   "cell_type": "markdown",
   "metadata": {},
   "source": [
    "### Сплиттер"
   ]
  },
  {
   "cell_type": "code",
   "execution_count": 30,
   "metadata": {},
   "outputs": [],
   "source": [
    "splitter = TimeRangeSplitter(\n",
    "    test_size=\"7D\",\n",
    "    n_splits=4,\n",
    "    filter_already_seen=True,\n",
    "    filter_cold_items=True,\n",
    "    filter_cold_users=True,\n",
    ")"
   ]
  },
  {
   "cell_type": "code",
   "execution_count": 31,
   "metadata": {},
   "outputs": [
    {
     "data": {
      "text/plain": [
       "[(Timestamp('2021-07-26 00:00:00', freq='7D'),\n",
       "  Timestamp('2021-08-02 00:00:00', freq='7D')),\n",
       " (Timestamp('2021-08-02 00:00:00', freq='7D'),\n",
       "  Timestamp('2021-08-09 00:00:00', freq='7D')),\n",
       " (Timestamp('2021-08-09 00:00:00', freq='7D'),\n",
       "  Timestamp('2021-08-16 00:00:00', freq='7D')),\n",
       " (Timestamp('2021-08-16 00:00:00', freq='7D'),\n",
       "  Timestamp('2021-08-23 00:00:00', freq='7D'))]"
      ]
     },
     "execution_count": 31,
     "metadata": {},
     "output_type": "execute_result"
    }
   ],
   "source": [
    "splitter.get_test_fold_borders(dataset.interactions)"
   ]
  },
  {
   "cell_type": "markdown",
   "metadata": {},
   "source": [
    "### Запустим оффлайн кросс-валидацию для обычных `ALS` и `LightFM`\n",
    "Для запуска используем функцию из нового релиза `rectools`"
   ]
  },
  {
   "cell_type": "code",
   "execution_count": 32,
   "metadata": {},
   "outputs": [
    {
     "name": "stdout",
     "output_type": "stream",
     "text": [
      "CPU times: user 16min 2s, sys: 8.37 s, total: 16min 11s\n",
      "Wall time: 16min 12s\n"
     ]
    }
   ],
   "source": [
    "%%time\n",
    "\n",
    "results = cross_validate(dataset, \n",
    "                         splitter, \n",
    "                         metrics_dict, \n",
    "                         models_dict, \n",
    "                         k=10, \n",
    "                         filter_viewed=True)"
   ]
  },
  {
   "cell_type": "code",
   "execution_count": 42,
   "metadata": {},
   "outputs": [],
   "source": [
    "metrics_df = (\n",
    "    pd.DataFrame.from_dict(results[\"metrics\"]).groupby(\"model\").mean().drop(\"i_split\", axis=1).T\n",
    ")"
   ]
  },
  {
   "cell_type": "code",
   "execution_count": 43,
   "metadata": {},
   "outputs": [
    {
     "data": {
      "text/html": [
       "<div>\n",
       "<style scoped>\n",
       "    .dataframe tbody tr th:only-of-type {\n",
       "        vertical-align: middle;\n",
       "    }\n",
       "\n",
       "    .dataframe tbody tr th {\n",
       "        vertical-align: top;\n",
       "    }\n",
       "\n",
       "    .dataframe thead th {\n",
       "        text-align: right;\n",
       "    }\n",
       "</style>\n",
       "<table border=\"1\" class=\"dataframe\">\n",
       "  <thead>\n",
       "    <tr style=\"text-align: right;\">\n",
       "      <th>model</th>\n",
       "      <th>ALS</th>\n",
       "      <th>LightFM</th>\n",
       "      <th>popular</th>\n",
       "    </tr>\n",
       "  </thead>\n",
       "  <tbody>\n",
       "    <tr>\n",
       "      <th>Accuracy_@1</th>\n",
       "      <td>0.999770</td>\n",
       "      <td>0.999769</td>\n",
       "      <td>0.999769</td>\n",
       "    </tr>\n",
       "    <tr>\n",
       "      <th>Precision_@1</th>\n",
       "      <td>0.085729</td>\n",
       "      <td>0.074948</td>\n",
       "      <td>0.076964</td>\n",
       "    </tr>\n",
       "    <tr>\n",
       "      <th>Accuracy_@5</th>\n",
       "      <td>0.999530</td>\n",
       "      <td>0.999531</td>\n",
       "      <td>0.999533</td>\n",
       "    </tr>\n",
       "    <tr>\n",
       "      <th>Precision_@5</th>\n",
       "      <td>0.049918</td>\n",
       "      <td>0.050037</td>\n",
       "      <td>0.053119</td>\n",
       "    </tr>\n",
       "    <tr>\n",
       "      <th>Accuracy_@10</th>\n",
       "      <td>0.999215</td>\n",
       "      <td>0.999212</td>\n",
       "      <td>0.999217</td>\n",
       "    </tr>\n",
       "    <tr>\n",
       "      <th>Precision_@10</th>\n",
       "      <td>0.032913</td>\n",
       "      <td>0.031090</td>\n",
       "      <td>0.034651</td>\n",
       "    </tr>\n",
       "    <tr>\n",
       "      <th>NDCG_@1</th>\n",
       "      <td>0.085729</td>\n",
       "      <td>0.074948</td>\n",
       "      <td>0.076964</td>\n",
       "    </tr>\n",
       "    <tr>\n",
       "      <th>NDCG_@5</th>\n",
       "      <td>0.057555</td>\n",
       "      <td>0.055634</td>\n",
       "      <td>0.058623</td>\n",
       "    </tr>\n",
       "    <tr>\n",
       "      <th>NDCG_@10</th>\n",
       "      <td>0.043011</td>\n",
       "      <td>0.040474</td>\n",
       "      <td>0.043831</td>\n",
       "    </tr>\n",
       "    <tr>\n",
       "      <th>MAP_@1</th>\n",
       "      <td>0.048132</td>\n",
       "      <td>0.042137</td>\n",
       "      <td>0.043234</td>\n",
       "    </tr>\n",
       "    <tr>\n",
       "      <th>MAP_@5</th>\n",
       "      <td>0.079499</td>\n",
       "      <td>0.075807</td>\n",
       "      <td>0.079521</td>\n",
       "    </tr>\n",
       "    <tr>\n",
       "      <th>MAP_@10</th>\n",
       "      <td>0.085194</td>\n",
       "      <td>0.080310</td>\n",
       "      <td>0.085682</td>\n",
       "    </tr>\n",
       "    <tr>\n",
       "      <th>MeanInvUserFreq_@1</th>\n",
       "      <td>2.792804</td>\n",
       "      <td>2.443882</td>\n",
       "      <td>2.390788</td>\n",
       "    </tr>\n",
       "    <tr>\n",
       "      <th>MeanInvUserFreq_@5</th>\n",
       "      <td>3.594060</td>\n",
       "      <td>3.280230</td>\n",
       "      <td>3.076160</td>\n",
       "    </tr>\n",
       "    <tr>\n",
       "      <th>MeanInvUserFreq_@10</th>\n",
       "      <td>4.341556</td>\n",
       "      <td>4.416846</td>\n",
       "      <td>3.715195</td>\n",
       "    </tr>\n",
       "    <tr>\n",
       "      <th>Serendipity_@1</th>\n",
       "      <td>0.000016</td>\n",
       "      <td>0.000004</td>\n",
       "      <td>0.000002</td>\n",
       "    </tr>\n",
       "    <tr>\n",
       "      <th>Serendipity_@5</th>\n",
       "      <td>0.000017</td>\n",
       "      <td>0.000004</td>\n",
       "      <td>0.000003</td>\n",
       "    </tr>\n",
       "    <tr>\n",
       "      <th>Serendipity_@10</th>\n",
       "      <td>0.000021</td>\n",
       "      <td>0.000005</td>\n",
       "      <td>0.000002</td>\n",
       "    </tr>\n",
       "  </tbody>\n",
       "</table>\n",
       "</div>"
      ],
      "text/plain": [
       "model                     ALS   LightFM   popular\n",
       "Accuracy_@1          0.999770  0.999769  0.999769\n",
       "Precision_@1         0.085729  0.074948  0.076964\n",
       "Accuracy_@5          0.999530  0.999531  0.999533\n",
       "Precision_@5         0.049918  0.050037  0.053119\n",
       "Accuracy_@10         0.999215  0.999212  0.999217\n",
       "Precision_@10        0.032913  0.031090  0.034651\n",
       "NDCG_@1              0.085729  0.074948  0.076964\n",
       "NDCG_@5              0.057555  0.055634  0.058623\n",
       "NDCG_@10             0.043011  0.040474  0.043831\n",
       "MAP_@1               0.048132  0.042137  0.043234\n",
       "MAP_@5               0.079499  0.075807  0.079521\n",
       "MAP_@10              0.085194  0.080310  0.085682\n",
       "MeanInvUserFreq_@1   2.792804  2.443882  2.390788\n",
       "MeanInvUserFreq_@5   3.594060  3.280230  3.076160\n",
       "MeanInvUserFreq_@10  4.341556  4.416846  3.715195\n",
       "Serendipity_@1       0.000016  0.000004  0.000002\n",
       "Serendipity_@5       0.000017  0.000004  0.000003\n",
       "Serendipity_@10      0.000021  0.000005  0.000002"
      ]
     },
     "execution_count": 43,
     "metadata": {},
     "output_type": "execute_result"
    }
   ],
   "source": [
    "metrics_df"
   ]
  },
  {
   "cell_type": "markdown",
   "metadata": {},
   "source": [
    "#### Выводы по метрикам\n",
    "- Остается актуальным вопрос с семинара \"Как победитель PopularModel()?\" :))\n",
    "- В половине метрик лучше себя показала `ALS`, в другой половине – `PopularModel()`\n",
    "- Для дальнешей работы (подбора гиперпараметров + связки с ANN) возьмем `ALS`"
   ]
  },
  {
   "cell_type": "code",
   "execution_count": 58,
   "metadata": {},
   "outputs": [],
   "source": [
    "from hyperopt import fmin, tpe, hp, space_eval"
   ]
  },
  {
   "cell_type": "code",
   "execution_count": 52,
   "metadata": {},
   "outputs": [],
   "source": [
    "def objective(params):\n",
    "    factor = int(params['factor'])\n",
    "    fit_feat_together = bool(params['fit_features_together'])\n",
    "\n",
    "    ALS = ImplicitALSWrapperModel(\n",
    "        model=AlternatingLeastSquares(\n",
    "            factors=factor,\n",
    "            random_state=32,\n",
    "            num_threads=2,\n",
    "        ),\n",
    "        fit_features_together=fit_feat_together,\n",
    "    )\n",
    "\n",
    "    ALS.fit(dataset)\n",
    "    recommendations = ALS.recommend(\n",
    "        users=test_users,\n",
    "        dataset=dataset,\n",
    "        k=10,\n",
    "        filter_viewed=True,\n",
    "    )\n",
    "    metric_values = calc_metrics({\"MAP_@10\": MAP(k=10)}, recommendations, test, train)\n",
    "    map_at10 = metric_values['MAP_@10']\n",
    "\n",
    "    return map_at10"
   ]
  },
  {
   "cell_type": "code",
   "execution_count": 55,
   "metadata": {},
   "outputs": [],
   "source": [
    "space = {\n",
    "    'factor': hp.choice('factor', [16, 32, 64, 128]),\n",
    "    'fit_features_together': hp.choice('fit_features_together', [True, False])\n",
    "}"
   ]
  },
  {
   "cell_type": "code",
   "execution_count": 56,
   "metadata": {},
   "outputs": [
    {
     "name": "stdout",
     "output_type": "stream",
     "text": [
      "100%|████████████████████████████████████████████████████████████████████████████████████████████████████████████████████████████████████████████████████████| 6/6 [35:50<00:00, 358.40s/trial, best loss: 0.0]\n"
     ]
    }
   ],
   "source": [
    "best = fmin(fn=objective,\n",
    "            space=space,\n",
    "            algo=tpe.suggest,\n",
    "            max_evals=6) "
   ]
  },
  {
   "cell_type": "code",
   "execution_count": 62,
   "metadata": {},
   "outputs": [
    {
     "data": {
      "text/plain": [
       "{'factor': 128, 'fit_features_together': True}"
      ]
     },
     "execution_count": 62,
     "metadata": {},
     "output_type": "execute_result"
    }
   ],
   "source": [
    "space_eval(space, best)  # Лучшие параметры, найденные через hyperopt"
   ]
  },
  {
   "cell_type": "markdown",
   "metadata": {},
   "source": [
    "## Обучаем финальную модель на всем датасете"
   ]
  },
  {
   "cell_type": "code",
   "execution_count": 17,
   "metadata": {},
   "outputs": [],
   "source": [
    "user_features = get_user_features(users, interactions, [\"sex\", \"age\", \"income\"])\n",
    "item_features = get_item_features(items, interactions)"
   ]
  },
  {
   "cell_type": "code",
   "execution_count": 18,
   "metadata": {},
   "outputs": [],
   "source": [
    "dataset = Dataset.construct(\n",
    "    interactions_df=interactions,\n",
    "    user_features_df=user_features,\n",
    "    cat_user_features=[\"sex\", \"age\", \"income\"],\n",
    "    item_features_df=item_features,\n",
    "    cat_item_features=[\"genre\", \"content_type\"],\n",
    ")"
   ]
  },
  {
   "cell_type": "code",
   "execution_count": 19,
   "metadata": {},
   "outputs": [],
   "source": [
    "best_als_model = ImplicitALSWrapperModel(\n",
    "        model=AlternatingLeastSquares(\n",
    "            factors=128,  # используем лучшие параметры\n",
    "            random_state=32,\n",
    "            num_threads=2,\n",
    "        ),\n",
    "        fit_features_together=True,  # используем лучшие параметры\n",
    ")"
   ]
  },
  {
   "cell_type": "code",
   "execution_count": 20,
   "metadata": {},
   "outputs": [
    {
     "data": {
      "text/plain": [
       "<rectools.models.implicit_als.ImplicitALSWrapperModel at 0x110340c70>"
      ]
     },
     "execution_count": 20,
     "metadata": {},
     "output_type": "execute_result"
    }
   ],
   "source": [
    "best_als_model.fit(dataset)"
   ]
  },
  {
   "cell_type": "code",
   "execution_count": 69,
   "metadata": {},
   "outputs": [],
   "source": [
    "best_als_model_recos = best_als_model.recommend(\n",
    "    users=interactions[Columns.User].unique(),\n",
    "    dataset=dataset,\n",
    "    k=10,\n",
    "    filter_viewed=True,\n",
    ")[[Columns.User, Columns.Item]]"
   ]
  },
  {
   "cell_type": "code",
   "execution_count": 84,
   "metadata": {},
   "outputs": [],
   "source": [
    "best_als_model_recos_dict = best_als_model_recos.groupby(['user_id']).apply(lambda x: x['item_id'].tolist()).to_dict()"
   ]
  },
  {
   "cell_type": "code",
   "execution_count": 86,
   "metadata": {},
   "outputs": [],
   "source": [
    "with open(\"../service/recsys_models/als_factor128_20231205.pkl\", \"wb\") as f:\n",
    "    pickle.dump(best_als_model_recos_dict, f)  # сохраняем пикл с оффлайн рекомендациями ALS"
   ]
  },
  {
   "cell_type": "markdown",
   "metadata": {},
   "source": [
    "#### Модель `ALS` смогла показать MAP@10 = 0.097 (текущий мой лучший результат в лидерборде)\n",
    "наименование модели `als_factor128_offline_model`"
   ]
  },
  {
   "cell_type": "markdown",
   "metadata": {},
   "source": [
    "## И закроем последний гештальт – ANN"
   ]
  },
  {
   "cell_type": "code",
   "execution_count": 21,
   "metadata": {},
   "outputs": [],
   "source": [
    "user_vectors, item_vectors = best_als_model.get_vectors()"
   ]
  },
  {
   "cell_type": "code",
   "execution_count": 22,
   "metadata": {},
   "outputs": [
    {
     "data": {
      "text/plain": [
       "<rectools.tools.ann.UserToItemAnnRecommender at 0x169f4ded0>"
      ]
     },
     "execution_count": 22,
     "metadata": {},
     "output_type": "execute_result"
    }
   ],
   "source": [
    "als_ann = UserToItemAnnRecommender(\n",
    "    user_vectors=user_vectors,\n",
    "    item_vectors=item_vectors,\n",
    "    user_id_map=dataset.user_id_map,\n",
    "    item_id_map=dataset.item_id_map,\n",
    ")\n",
    "als_ann.fit()"
   ]
  },
  {
   "cell_type": "code",
   "execution_count": 28,
   "metadata": {},
   "outputs": [],
   "source": [
    "with open(\"../service/recsys_models/als_factor128_ann__model_20231205.pkl\", \"wb\") as f:\n",
    "    pickle.dump(als_ann, f)  # сохраняем пикл с инстансом ALS+ANN модели (онлайн рекомендации)"
   ]
  },
  {
   "cell_type": "markdown",
   "metadata": {},
   "source": [
    "#### У бота получилось посчитать рекомендации, отправляя запросы к инстансу модели. Не знаю, можно ли будет это назвать онлайн-рекомендациями\n",
    "У модели `als_ann` получилась метрика 0.0824 (наименование модели в лидерборде: `als_f128_ann_online_model`)  \n",
    "Это не перебило голую ALS, но перебило необходимый порог (> 0.075)"
   ]
  },
  {
   "cell_type": "code",
   "execution_count": null,
   "metadata": {},
   "outputs": [],
   "source": []
  }
 ],
 "metadata": {
  "kernelspec": {
   "display_name": "Python 3 (ipykernel)",
   "language": "python",
   "name": "python3"
  },
  "language_info": {
   "codemirror_mode": {
    "name": "ipython",
    "version": 3
   },
   "file_extension": ".py",
   "mimetype": "text/x-python",
   "name": "python",
   "nbconvert_exporter": "python",
   "pygments_lexer": "ipython3",
   "version": "3.10.8"
  }
 },
 "nbformat": 4,
 "nbformat_minor": 4
}
